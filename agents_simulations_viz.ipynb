{
 "cells": [
  {
   "cell_type": "code",
   "execution_count": 46,
   "metadata": {},
   "outputs": [],
   "source": [
    "import solara\n",
    "from mesa.experimental import JupyterViz\n",
    "from matplotlib.figure import Figure\n",
    "from rock_scissors_paper.model_random_act import RockScissorsPaper\n",
    "from rock_scissors_paper.model_MV import RockScissorsPaperMV"
   ]
  },
  {
   "cell_type": "code",
   "execution_count": 50,
   "metadata": {},
   "outputs": [],
   "source": [
    "def agent_portrayal(cell):\n",
    "    return {\"color\": cell.color_map[cell.state], \"marker\": \"s\", \"size\": 1}\n",
    "\n",
    "line_plot_fig = None\n",
    "def line_plot(model):\n",
    "    global line_plot_fig\n",
    "    fig = Figure()\n",
    "    ax = fig.subplots()\n",
    "    model_data = model.datacollector.get_model_vars_dataframe()\n",
    "    tot_individuals =model_data[0] + model_data[1] + model_data[2]\n",
    "    model_data[0] = model_data[0] / tot_individuals\n",
    "    model_data[1] = model_data[1] / tot_individuals\n",
    "    model_data[2] = model_data[2] / tot_individuals\n",
    "    model_data[[0, 1, 2]].plot(ax=ax, style='-o', color=['tab:red', 'purple', 'gold'])\n",
    "    ax.legend(['$n_r$', '$n_s$', '$n_p$'])\n",
    "    ax.set_xlabel('Time Step')\n",
    "    ax.set_ylabel('Fraction of Individuals')\n",
    "    line_plot_fig = solara.FigureMatplotlib(fig)\n",
    "    return line_plot_fig\n",
    "\n",
    "def rate_r(model):\n",
    "    fig = Figure()\n",
    "    ax = fig.subplots()\n",
    "    model_data = model.datacollector.get_model_vars_dataframe()\n",
    "    tot_individuals = model_data[0] + model_data[1] + model_data[2]\n",
    "    model_data[0] = model_data[0] / tot_individuals\n",
    "    model_data[[0, 'Pr']].plot(ax=ax, style='-o', color=['tab:red', 'black'])\n",
    "    ax.legend(['$n_r$', '$P_r$'])\n",
    "    ax.set_xlabel('Time Step')\n",
    "    solara.FigureMatplotlib(fig)\n",
    "\n",
    "color_map = {\n",
    "    0: 'red',\n",
    "    1: 'purple',\n",
    "    2: 'yellow',\n",
    "}"
   ]
  },
  {
   "cell_type": "code",
   "execution_count": 51,
   "metadata": {},
   "outputs": [
    {
     "data": {
      "application/vnd.jupyter.widget-view+json": {
       "model_id": "0ebca7d8af6342d8b39af332cb76dae0",
       "version_major": 2,
       "version_minor": 0
      },
      "text/html": [
       "Cannot show widget. You probably want to rerun the code cell above (<i>Click in the code cell, and press Shift+Enter <kbd>⇧</kbd>+<kbd>↩</kbd></i>)."
      ],
      "text/plain": [
       "Cannot show ipywidgets in text"
      ]
     },
     "metadata": {},
     "output_type": "display_data"
    }
   ],
   "source": [
    "model_params = {\n",
    "    \"height\": 200,\n",
    "    \"width\": 200,\n",
    "    \"hex\": False,\n",
    "    \"r0\": 0.33,\n",
    "    \"s0\": 0.33,\n",
    "    \"p0\": 0.33,\n",
    "    \"Pr\": 0.33,\n",
    "    \"Ps\": 0.33,\n",
    "    \"Pp\": 0.33,\n",
    "    \"color_map\": color_map\n",
    "}\n",
    "page = JupyterViz(\n",
    "    RockScissorsPaper,\n",
    "    model_params,\n",
    "    measures=[line_plot],\n",
    "    agent_portrayal=agent_portrayal,\n",
    ")\n",
    "page\n"
   ]
  },
  {
   "cell_type": "code",
   "execution_count": 56,
   "metadata": {},
   "outputs": [
    {
     "data": {
      "application/vnd.jupyter.widget-view+json": {
       "model_id": "8d1e39a020ca4ae78954df823ed8cb5c",
       "version_major": 2,
       "version_minor": 0
      },
      "text/html": [
       "Cannot show widget. You probably want to rerun the code cell above (<i>Click in the code cell, and press Shift+Enter <kbd>⇧</kbd>+<kbd>↩</kbd></i>)."
      ],
      "text/plain": [
       "Cannot show ipywidgets in text"
      ]
     },
     "metadata": {},
     "output_type": "display_data"
    }
   ],
   "source": [
    "line_plot_fig"
   ]
  },
  {
   "cell_type": "code",
   "execution_count": 62,
   "metadata": {},
   "outputs": [],
   "source": [
    "line_plot_fig.args[0].savefig('line_plot.png')"
   ]
  },
  {
   "cell_type": "code",
   "execution_count": 4,
   "metadata": {},
   "outputs": [
    {
     "data": {
      "application/vnd.jupyter.widget-view+json": {
       "model_id": "fa0c7ff2e20e49c392e125c004728172",
       "version_major": 2,
       "version_minor": 0
      },
      "text/html": [
       "Cannot show widget. You probably want to rerun the code cell above (<i>Click in the code cell, and press Shift+Enter <kbd>⇧</kbd>+<kbd>↩</kbd></i>)."
      ],
      "text/plain": [
       "Cannot show ipywidgets in text"
      ]
     },
     "metadata": {},
     "output_type": "display_data"
    }
   ],
   "source": [
    "model_params = {\n",
    "    \"height\": 200,\n",
    "    \"width\": 200,\n",
    "    \"hex\": False,\n",
    "    \"r0\": 0.1,\n",
    "    \"s0\": 0.8,\n",
    "    \"p0\": 0.1,\n",
    "    \"Pr\": 0.1,\n",
    "    \"Ps\": 0.1,\n",
    "    \"Pp\": 0.8,\n",
    "    \"color_map\": color_map\n",
    "}\n",
    "page = JupyterViz(\n",
    "    RockScissorsPaper,\n",
    "    model_params,\n",
    "    measures=[line_plot],\n",
    "    agent_portrayal=agent_portrayal\n",
    ")\n",
    "page"
   ]
  },
  {
   "cell_type": "code",
   "execution_count": 5,
   "metadata": {},
   "outputs": [
    {
     "data": {
      "application/vnd.jupyter.widget-view+json": {
       "model_id": "f812b1dcbe734fc7b4b255f001b61213",
       "version_major": 2,
       "version_minor": 0
      },
      "text/html": [
       "Cannot show widget. You probably want to rerun the code cell above (<i>Click in the code cell, and press Shift+Enter <kbd>⇧</kbd>+<kbd>↩</kbd></i>)."
      ],
      "text/plain": [
       "Cannot show ipywidgets in text"
      ]
     },
     "metadata": {},
     "output_type": "display_data"
    }
   ],
   "source": [
    "model_params = {\n",
    "    \"height\": 200,\n",
    "    \"width\": 200,\n",
    "    \"hex\": False,\n",
    "    \"r0\": 0.475,\n",
    "    \"s0\": 0.475,\n",
    "    \"p0\": 0.05,\n",
    "    \"Pr\": 0.05,\n",
    "    \"Ps\": 0.475,\n",
    "    \"Pp\": 0.475,\n",
    "    \"color_map\": color_map\n",
    "}\n",
    "page = JupyterViz(\n",
    "    RockScissorsPaper,\n",
    "    model_params,\n",
    "    measures=[line_plot],\n",
    "    agent_portrayal=agent_portrayal\n",
    ")\n",
    "page"
   ]
  },
  {
   "cell_type": "markdown",
   "metadata": {},
   "source": [
    "## Rock invasion rate increase"
   ]
  },
  {
   "cell_type": "code",
   "execution_count": 6,
   "metadata": {},
   "outputs": [
    {
     "data": {
      "application/vnd.jupyter.widget-view+json": {
       "model_id": "8de5ff13d8374fcc8eac973fafd5be57",
       "version_major": 2,
       "version_minor": 0
      },
      "text/html": [
       "Cannot show widget. You probably want to rerun the code cell above (<i>Click in the code cell, and press Shift+Enter <kbd>⇧</kbd>+<kbd>↩</kbd></i>)."
      ],
      "text/plain": [
       "Cannot show ipywidgets in text"
      ]
     },
     "metadata": {},
     "output_type": "display_data"
    }
   ],
   "source": [
    "model_params = {\n",
    "    \"height\": 200,\n",
    "    \"width\": 200,\n",
    "    \"hex\": False,\n",
    "    \"r0\": 0.5,\n",
    "    \"s0\": 0.3,\n",
    "    \"p0\": 0.1,\n",
    "    \"Pr\": 0.1,\n",
    "    \"Ps\": 0.5,\n",
    "    \"Pp\": 0.3,\n",
    "    \"color_map\": color_map,\n",
    "    \"increase_rate\": True,\n",
    "}\n",
    "page = JupyterViz(\n",
    "    RockScissorsPaper,\n",
    "    model_params,\n",
    "    measures=[line_plot, rate_r],\n",
    "    agent_portrayal=agent_portrayal,\n",
    ")\n",
    "page"
   ]
  },
  {
   "cell_type": "markdown",
   "metadata": {},
   "source": [
    "## Cellular automata"
   ]
  },
  {
   "cell_type": "code",
   "execution_count": null,
   "metadata": {},
   "outputs": [],
   "source": [
    "model_params = {\n",
    "    \"height\": 100,\n",
    "    \"width\": 100,\n",
    "    \"hex\": False,\n",
    "    \"r0\": 0.33,\n",
    "    \"s0\": 0.33,\n",
    "    \"p0\": 0.33,\n",
    "    \"init3\": 0,\n",
    "    \"init4\": 0,\n",
    "    \"n_species\": 3,\n",
    "    \"color_map\": color_map\n",
    "}\n",
    "def agent_portrayal(cell):\n",
    "    return {\"color\": cell.color_map[cell.state], \"marker\": \"s\", \"size\": 5}\n",
    "page = JupyterViz(\n",
    "    RockScissorsPaperMV,\n",
    "    model_params,\n",
    "    measures=[],\n",
    "    agent_portrayal=agent_portrayal,\n",
    ")\n",
    "page"
   ]
  },
  {
   "cell_type": "code",
   "execution_count": null,
   "metadata": {},
   "outputs": [],
   "source": [
    "# TODO:\n",
    "# https://github.com/projectmesa/mesa-examples/blob/main/examples/hotelling_law/app.py\n",
    "# settare figsize and eq axis"
   ]
  },
  {
   "cell_type": "code",
   "execution_count": 6,
   "metadata": {},
   "outputs": [
    {
     "data": {
      "application/vnd.jupyter.widget-view+json": {
       "model_id": "9fab291ae338469b80409acdd6c6adb4",
       "version_major": 2,
       "version_minor": 0
      },
      "text/html": [
       "Cannot show widget. You probably want to rerun the code cell above (<i>Click in the code cell, and press Shift+Enter <kbd>⇧</kbd>+<kbd>↩</kbd></i>)."
      ],
      "text/plain": [
       "Cannot show ipywidgets in text"
      ]
     },
     "metadata": {},
     "output_type": "display_data"
    }
   ],
   "source": [
    "# import solara\n",
    "# from matplotlib.figure import Figure\n",
    "\n",
    "# def agent_portrayal(cell):\n",
    "#     return {\"color\": cell.color_map[cell.state], \"marker\": \"s\", \"size\": 1}\n",
    "\n",
    "# @solara.component\n",
    "# def space_drawer(model, agent_portrayal):\n",
    "#     space_fig = Figure()#figsize=(10, 10), dpi=100) # DPI?\n",
    "#     space_ax = space_fig.subplots()\n",
    "#     space_ax.set_aspect(\"equal\")\n",
    "#     space = getattr(model, \"grid\", None)\n",
    "#     _draw_grid(space, space_ax, agent_portrayal)\n",
    "#     solara.FigureMatplotlib(space_fig, format=\"png\")\n",
    "\n",
    "# def _draw_grid(space, space_ax, agent_portrayal):\n",
    "#     def portray(g):\n",
    "#         x = []\n",
    "#         y = []\n",
    "#         s = []  # size\n",
    "#         c = []  # color\n",
    "#         for i in range(g.width):\n",
    "#             for j in range(g.height):\n",
    "#                 content = g._grid[i][j]\n",
    "#                 if not content:\n",
    "#                     continue\n",
    "#                 if not hasattr(content, \"__iter__\"):\n",
    "#                     # Is a single grid\n",
    "#                     content = [content]\n",
    "#                 for agent in content:\n",
    "#                     data = agent_portrayal(agent)\n",
    "#                     x.append(i)\n",
    "#                     y.append(j)\n",
    "#                     if \"size\" in data:\n",
    "#                         s.append(data[\"size\"])\n",
    "#                     if \"color\" in data:\n",
    "#                         c.append(data[\"color\"])\n",
    "#         out = {\"x\": x, \"y\": y}\n",
    "#         # This is the default value for the marker size, which auto-scales\n",
    "#         # according to the grid area.\n",
    "#         out[\"s\"] = (180 / min(g.width, g.height)) ** 2\n",
    "#         if len(s) > 0:\n",
    "#             out[\"s\"] = s\n",
    "#         if len(c) > 0:\n",
    "#             out[\"c\"] = c\n",
    "#         return out\n",
    "\n",
    "#     space_ax.set_xlim(-1, space.width)\n",
    "#     space_ax.set_ylim(-1, space.height)\n",
    "#     space_ax.scatter(**portray(space))\n",
    "\n",
    "# model_params = {\n",
    "#     \"height\": 200,\n",
    "#     \"width\": 200,\n",
    "#     \"hex\": False,\n",
    "#     \"r0\": 0.33,\n",
    "#     \"s0\": 0.33,\n",
    "#     \"p0\": 0.33,\n",
    "#     \"Pr\": 0.33,\n",
    "#     \"Ps\": 0.33,\n",
    "#     \"Pp\": 0.33,\n",
    "#     \"color_map\": {\n",
    "#         0: 'red',\n",
    "#         1: 'purple',\n",
    "#         2: 'yellow',\n",
    "#     }\n",
    "# }\n",
    "\n",
    "# page = JupyterViz(\n",
    "#     RockScissorsPaper,\n",
    "#     model_params,\n",
    "#     measures=[],\n",
    "#     agent_portrayal=agent_portrayal,\n",
    "#     space_drawer=space_drawer,\n",
    "# )\n",
    "# page"
   ]
  }
 ],
 "metadata": {
  "kernelspec": {
   "display_name": "cmcs",
   "language": "python",
   "name": "python3"
  },
  "language_info": {
   "codemirror_mode": {
    "name": "ipython",
    "version": 3
   },
   "file_extension": ".py",
   "mimetype": "text/x-python",
   "name": "python",
   "nbconvert_exporter": "python",
   "pygments_lexer": "ipython3",
   "version": "3.11.7"
  }
 },
 "nbformat": 4,
 "nbformat_minor": 2
}
