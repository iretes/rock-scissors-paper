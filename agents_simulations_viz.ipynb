{
 "cells": [
  {
   "cell_type": "code",
   "execution_count": 2,
   "metadata": {},
   "outputs": [],
   "source": [
    "from mesa.experimental import JupyterViz\n",
    "from rock_scissors_paper.model_original import RockScissorsPaperO\n",
    "from rock_scissors_paper.model_MV import RockScissorsPaperMV"
   ]
  },
  {
   "cell_type": "code",
   "execution_count": 3,
   "metadata": {},
   "outputs": [],
   "source": [
    "def agent_portrayal(cell):\n",
    "    return {\"color\": cell.color_map[cell.state], \"marker\": \"s\", \"size\": 1}\n",
    "\n",
    "color_map = {\n",
    "    0: 'red',\n",
    "    1: 'purple',\n",
    "    2: 'yellow',\n",
    "}"
   ]
  },
  {
   "cell_type": "code",
   "execution_count": 4,
   "metadata": {},
   "outputs": [
    {
     "name": "stderr",
     "output_type": "stream",
     "text": [
      "/Users/irenetesta/anaconda3/envs/cmcs/lib/python3.11/site-packages/mesa/time.py:82: FutureWarning: The AgentSet is experimental. It may be changed or removed in any and all future releases, including patch releases.\n",
      "We would love to hear what you think about this new feature. If you have any thoughts, share them with us here: https://github.com/projectmesa/mesa/discussions/1919\n",
      "  self._agents: AgentSet = AgentSet(agents, model)\n"
     ]
    },
    {
     "data": {
      "application/vnd.jupyter.widget-view+json": {
       "model_id": "a5761793f58d4f1cb9f227ad32a5997c",
       "version_major": 2,
       "version_minor": 0
      },
      "text/html": [
       "Cannot show widget. You probably want to rerun the code cell above (<i>Click in the code cell, and press Shift+Enter <kbd>⇧</kbd>+<kbd>↩</kbd></i>)."
      ],
      "text/plain": [
       "Cannot show ipywidgets in text"
      ]
     },
     "metadata": {},
     "output_type": "display_data"
    }
   ],
   "source": [
    "model_params = {\n",
    "    \"height\": 200,\n",
    "    \"width\": 200,\n",
    "    \"hex\": False,\n",
    "    \"init0\": 0.33,\n",
    "    \"init1\": 0.33,\n",
    "    \"init2\": 0.33,\n",
    "    \"inv0\": 0.33,\n",
    "    \"inv1\": 0.33,\n",
    "    \"inv2\": 0.33,\n",
    "    \"color_map\": color_map\n",
    "}\n",
    "page = JupyterViz(\n",
    "    RockScissorsPaperO,\n",
    "    model_params,\n",
    "    measures=[],\n",
    "    agent_portrayal=agent_portrayal,\n",
    ")\n",
    "page"
   ]
  },
  {
   "cell_type": "code",
   "execution_count": 7,
   "metadata": {},
   "outputs": [
    {
     "data": {
      "application/vnd.jupyter.widget-view+json": {
       "model_id": "d0e96a89d7014ca78f16f091407316df",
       "version_major": 2,
       "version_minor": 0
      },
      "text/html": [
       "Cannot show widget. You probably want to rerun the code cell above (<i>Click in the code cell, and press Shift+Enter <kbd>⇧</kbd>+<kbd>↩</kbd></i>)."
      ],
      "text/plain": [
       "Cannot show ipywidgets in text"
      ]
     },
     "metadata": {},
     "output_type": "display_data"
    }
   ],
   "source": [
    "model_params = {\n",
    "    \"height\": 200,\n",
    "    \"width\": 200,\n",
    "    \"hex\": False,\n",
    "    \"init0\": 0.1,\n",
    "    \"init1\": 0.8,\n",
    "    \"init2\": 0.1,\n",
    "    \"inv0\": 0.1,\n",
    "    \"inv1\": 0.1,\n",
    "    \"inv2\": 0.8,\n",
    "    \"color_map\": color_map\n",
    "}\n",
    "page = JupyterViz(\n",
    "    RockScissorsPaperO,\n",
    "    model_params,\n",
    "    measures=[],\n",
    "    agent_portrayal=agent_portrayal\n",
    ")\n",
    "page"
   ]
  },
  {
   "cell_type": "code",
   "execution_count": 6,
   "metadata": {},
   "outputs": [
    {
     "data": {
      "application/vnd.jupyter.widget-view+json": {
       "model_id": "a3a80efb866a4ae1928f56ab7699e10e",
       "version_major": 2,
       "version_minor": 0
      },
      "text/html": [
       "Cannot show widget. You probably want to rerun the code cell above (<i>Click in the code cell, and press Shift+Enter <kbd>⇧</kbd>+<kbd>↩</kbd></i>)."
      ],
      "text/plain": [
       "Cannot show ipywidgets in text"
      ]
     },
     "metadata": {},
     "output_type": "display_data"
    }
   ],
   "source": [
    "model_params = {\n",
    "    \"height\": 200,\n",
    "    \"width\": 200,\n",
    "    \"hex\": False,\n",
    "    \"init0\": 0.475,\n",
    "    \"init1\": 0.475,\n",
    "    \"init2\": 0.05,\n",
    "    \"inv0\": 0.05,\n",
    "    \"inv1\": 0.475,\n",
    "    \"inv2\": 0.475,\n",
    "    \"color_map\": color_map\n",
    "}\n",
    "page = JupyterViz(\n",
    "    RockScissorsPaperO,\n",
    "    model_params,\n",
    "    measures=[],\n",
    "    agent_portrayal=agent_portrayal\n",
    ")\n",
    "page"
   ]
  },
  {
   "cell_type": "code",
   "execution_count": null,
   "metadata": {},
   "outputs": [],
   "source": [
    "# TODO:\n",
    "# https://github.com/projectmesa/mesa-examples/blob/main/examples/hotelling_law/app.py\n",
    "# tracciare numero popolazioni, figsize and eq axis"
   ]
  },
  {
   "cell_type": "code",
   "execution_count": null,
   "metadata": {},
   "outputs": [],
   "source": [
    "import solara\n",
    "from matplotlib.figure import Figure\n",
    "\n",
    "@solara.component\n",
    "def space_drawer(model, agent_portrayal):\n",
    "    space_fig = Figure()#figsize=(10, 10), dpi=100) # DPI?\n",
    "    space_ax = space_fig.subplots()\n",
    "    space_ax.set_aspect(\"equal\")\n",
    "    space = getattr(model, \"grid\", None)\n",
    "    _draw_grid(space, space_ax, agent_portrayal)\n",
    "    solara.FigureMatplotlib(space_fig, format=\"png\")\n",
    "\n",
    "def _draw_grid(space, space_ax, agent_portrayal):\n",
    "    def portray(g):\n",
    "        x = []\n",
    "        y = []\n",
    "        s = []  # size\n",
    "        c = []  # color\n",
    "        for i in range(g.width):\n",
    "            for j in range(g.height):\n",
    "                content = g._grid[i][j]\n",
    "                if not content:\n",
    "                    continue\n",
    "                if not hasattr(content, \"__iter__\"):\n",
    "                    # Is a single grid\n",
    "                    content = [content]\n",
    "                for agent in content:\n",
    "                    data = agent_portrayal(agent)\n",
    "                    x.append(i)\n",
    "                    y.append(j)\n",
    "                    if \"size\" in data:\n",
    "                        s.append(data[\"size\"])\n",
    "                    if \"color\" in data:\n",
    "                        c.append(data[\"color\"])\n",
    "        out = {\"x\": x, \"y\": y}\n",
    "        # This is the default value for the marker size, which auto-scales\n",
    "        # according to the grid area.\n",
    "        out[\"s\"] = (180 / min(g.width, g.height)) ** 2\n",
    "        if len(s) > 0:\n",
    "            out[\"s\"] = s\n",
    "        if len(c) > 0:\n",
    "            out[\"c\"] = c\n",
    "        return out\n",
    "\n",
    "    space_ax.set_xlim(-1, space.width)\n",
    "    space_ax.set_ylim(-1, space.height)\n",
    "    space_ax.scatter(**portray(space))\n",
    "\n",
    "model_params = {\n",
    "    \"height\": 200,\n",
    "    \"width\": 200,\n",
    "    \"hex\": False,\n",
    "    \"init0\": 0.33,\n",
    "    \"init1\": 0.33,\n",
    "    \"init2\": 0.33,\n",
    "    \"inv0\": 0.33,\n",
    "    \"inv1\": 0.33,\n",
    "    \"inv2\": 0.33,\n",
    "    \"color_map\": {\n",
    "        0: 'red',\n",
    "        1: 'purple',\n",
    "        2: 'yellow',\n",
    "    }\n",
    "}\n",
    "\n",
    "def agent_portrayal(cell):\n",
    "    return {\"color\": cell.color_map[cell.state], \"marker\": \"s\", \"size\": 1}\n",
    "\n",
    "page = JupyterViz(\n",
    "    RockScissorsPaperO,\n",
    "    model_params,\n",
    "    measures=[],\n",
    "    agent_portrayal=agent_portrayal,\n",
    "    space_drawer=space_drawer,\n",
    ")\n",
    "page"
   ]
  },
  {
   "cell_type": "code",
   "execution_count": 8,
   "metadata": {},
   "outputs": [
    {
     "data": {
      "application/vnd.jupyter.widget-view+json": {
       "model_id": "0d2a7c3581ad4a5e85f57b2e2a2bd2cf",
       "version_major": 2,
       "version_minor": 0
      },
      "text/html": [
       "Cannot show widget. You probably want to rerun the code cell above (<i>Click in the code cell, and press Shift+Enter <kbd>⇧</kbd>+<kbd>↩</kbd></i>)."
      ],
      "text/plain": [
       "Cannot show ipywidgets in text"
      ]
     },
     "metadata": {},
     "output_type": "display_data"
    }
   ],
   "source": [
    "model_params = {\n",
    "    \"height\": 100,\n",
    "    \"width\": 100,\n",
    "    \"hex\": False,\n",
    "    \"init0\": 0.33,\n",
    "    \"init1\": 0.33,\n",
    "    \"init2\": 0.33,\n",
    "    \"init3\": 0,\n",
    "    \"init4\": 0,\n",
    "    \"n_species\": 3,\n",
    "    \"color_map\": color_map\n",
    "}\n",
    "def agent_portrayal(cell):\n",
    "    return {\"color\": cell.color_map[cell.state], \"marker\": \"s\", \"size\": 5}\n",
    "page = JupyterViz(\n",
    "    RockScissorsPaperMV,\n",
    "    model_params,\n",
    "    measures=[],\n",
    "    agent_portrayal=agent_portrayal,\n",
    ")\n",
    "page"
   ]
  }
 ],
 "metadata": {
  "kernelspec": {
   "display_name": "cmcs",
   "language": "python",
   "name": "python3"
  },
  "language_info": {
   "codemirror_mode": {
    "name": "ipython",
    "version": 3
   },
   "file_extension": ".py",
   "mimetype": "text/x-python",
   "name": "python",
   "nbconvert_exporter": "python",
   "pygments_lexer": "ipython3",
   "version": "3.11.7"
  }
 },
 "nbformat": 4,
 "nbformat_minor": 2
}
