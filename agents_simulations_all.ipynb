{
 "cells": [
  {
   "cell_type": "code",
   "execution_count": 1,
   "metadata": {},
   "outputs": [],
   "source": [
    "import pandas as pd\n",
    "import matplotlib.pyplot as plt\n",
    "import plotly.express as px\n",
    "import mesa\n",
    "from rock_scissors_paper.model_MV import RockScissorsPaperMV\n",
    "from rock_scissors_paper.model_SSR import RockScissorsPaperSSR"
   ]
  },
  {
   "cell_type": "code",
   "execution_count": 2,
   "metadata": {},
   "outputs": [
    {
     "data": {
      "application/vnd.jupyter.widget-view+json": {
       "model_id": "676877a738534715a7874dbcd7c6f44e",
       "version_major": 2,
       "version_minor": 0
      },
      "text/plain": [
       "  0%|          | 0/5 [00:00<?, ?it/s]"
      ]
     },
     "metadata": {},
     "output_type": "display_data"
    },
    {
     "name": "stderr",
     "output_type": "stream",
     "text": [
      "/Users/irenetesta/anaconda3/envs/cmcs/lib/python3.11/site-packages/mesa/time.py:82: FutureWarning: The AgentSet is experimental. It may be changed or removed in any and all future releases, including patch releases.\n",
      "We would love to hear what you think about this new feature. If you have any thoughts, share them with us here: https://github.com/projectmesa/mesa/discussions/1919\n",
      "  self._agents: AgentSet = AgentSet(agents, model)\n"
     ]
    },
    {
     "data": {
      "text/html": [
       "<div>\n",
       "<style scoped>\n",
       "    .dataframe tbody tr th:only-of-type {\n",
       "        vertical-align: middle;\n",
       "    }\n",
       "\n",
       "    .dataframe tbody tr th {\n",
       "        vertical-align: top;\n",
       "    }\n",
       "\n",
       "    .dataframe thead th {\n",
       "        text-align: right;\n",
       "    }\n",
       "</style>\n",
       "<table border=\"1\" class=\"dataframe\">\n",
       "  <thead>\n",
       "    <tr style=\"text-align: right;\">\n",
       "      <th></th>\n",
       "      <th>RunId</th>\n",
       "      <th>iteration</th>\n",
       "      <th>Step</th>\n",
       "      <th>height</th>\n",
       "      <th>width</th>\n",
       "      <th>hex</th>\n",
       "      <th>n_species</th>\n",
       "      <th>prob0</th>\n",
       "      <th>prob1</th>\n",
       "      <th>prob2</th>\n",
       "      <th>prob3</th>\n",
       "      <th>prob4</th>\n",
       "      <th>color_map</th>\n",
       "      <th>rock</th>\n",
       "      <th>scissors</th>\n",
       "      <th>paper</th>\n",
       "    </tr>\n",
       "  </thead>\n",
       "  <tbody>\n",
       "    <tr>\n",
       "      <th>0</th>\n",
       "      <td>0</td>\n",
       "      <td>0</td>\n",
       "      <td>0</td>\n",
       "      <td>100</td>\n",
       "      <td>100</td>\n",
       "      <td>True</td>\n",
       "      <td>3</td>\n",
       "      <td>0.333333</td>\n",
       "      <td>0.333333</td>\n",
       "      <td>0.333333</td>\n",
       "      <td>0</td>\n",
       "      <td>0</td>\n",
       "      <td>0</td>\n",
       "      <td>3363</td>\n",
       "      <td>3287</td>\n",
       "      <td>3350</td>\n",
       "    </tr>\n",
       "    <tr>\n",
       "      <th>1</th>\n",
       "      <td>0</td>\n",
       "      <td>0</td>\n",
       "      <td>1</td>\n",
       "      <td>100</td>\n",
       "      <td>100</td>\n",
       "      <td>True</td>\n",
       "      <td>3</td>\n",
       "      <td>0.333333</td>\n",
       "      <td>0.333333</td>\n",
       "      <td>0.333333</td>\n",
       "      <td>0</td>\n",
       "      <td>0</td>\n",
       "      <td>0</td>\n",
       "      <td>3324</td>\n",
       "      <td>3314</td>\n",
       "      <td>3362</td>\n",
       "    </tr>\n",
       "    <tr>\n",
       "      <th>2</th>\n",
       "      <td>0</td>\n",
       "      <td>0</td>\n",
       "      <td>2</td>\n",
       "      <td>100</td>\n",
       "      <td>100</td>\n",
       "      <td>True</td>\n",
       "      <td>3</td>\n",
       "      <td>0.333333</td>\n",
       "      <td>0.333333</td>\n",
       "      <td>0.333333</td>\n",
       "      <td>0</td>\n",
       "      <td>0</td>\n",
       "      <td>0</td>\n",
       "      <td>3355</td>\n",
       "      <td>3283</td>\n",
       "      <td>3362</td>\n",
       "    </tr>\n",
       "    <tr>\n",
       "      <th>3</th>\n",
       "      <td>0</td>\n",
       "      <td>0</td>\n",
       "      <td>3</td>\n",
       "      <td>100</td>\n",
       "      <td>100</td>\n",
       "      <td>True</td>\n",
       "      <td>3</td>\n",
       "      <td>0.333333</td>\n",
       "      <td>0.333333</td>\n",
       "      <td>0.333333</td>\n",
       "      <td>0</td>\n",
       "      <td>0</td>\n",
       "      <td>0</td>\n",
       "      <td>3382</td>\n",
       "      <td>3270</td>\n",
       "      <td>3348</td>\n",
       "    </tr>\n",
       "    <tr>\n",
       "      <th>4</th>\n",
       "      <td>0</td>\n",
       "      <td>0</td>\n",
       "      <td>4</td>\n",
       "      <td>100</td>\n",
       "      <td>100</td>\n",
       "      <td>True</td>\n",
       "      <td>3</td>\n",
       "      <td>0.333333</td>\n",
       "      <td>0.333333</td>\n",
       "      <td>0.333333</td>\n",
       "      <td>0</td>\n",
       "      <td>0</td>\n",
       "      <td>0</td>\n",
       "      <td>3361</td>\n",
       "      <td>3281</td>\n",
       "      <td>3358</td>\n",
       "    </tr>\n",
       "    <tr>\n",
       "      <th>...</th>\n",
       "      <td>...</td>\n",
       "      <td>...</td>\n",
       "      <td>...</td>\n",
       "      <td>...</td>\n",
       "      <td>...</td>\n",
       "      <td>...</td>\n",
       "      <td>...</td>\n",
       "      <td>...</td>\n",
       "      <td>...</td>\n",
       "      <td>...</td>\n",
       "      <td>...</td>\n",
       "      <td>...</td>\n",
       "      <td>...</td>\n",
       "      <td>...</td>\n",
       "      <td>...</td>\n",
       "      <td>...</td>\n",
       "    </tr>\n",
       "    <tr>\n",
       "      <th>1000</th>\n",
       "      <td>4</td>\n",
       "      <td>0</td>\n",
       "      <td>196</td>\n",
       "      <td>100</td>\n",
       "      <td>100</td>\n",
       "      <td>True</td>\n",
       "      <td>3</td>\n",
       "      <td>0.333333</td>\n",
       "      <td>0.333333</td>\n",
       "      <td>0.333333</td>\n",
       "      <td>0</td>\n",
       "      <td>0</td>\n",
       "      <td>4</td>\n",
       "      <td>3288</td>\n",
       "      <td>3475</td>\n",
       "      <td>3237</td>\n",
       "    </tr>\n",
       "    <tr>\n",
       "      <th>1001</th>\n",
       "      <td>4</td>\n",
       "      <td>0</td>\n",
       "      <td>197</td>\n",
       "      <td>100</td>\n",
       "      <td>100</td>\n",
       "      <td>True</td>\n",
       "      <td>3</td>\n",
       "      <td>0.333333</td>\n",
       "      <td>0.333333</td>\n",
       "      <td>0.333333</td>\n",
       "      <td>0</td>\n",
       "      <td>0</td>\n",
       "      <td>4</td>\n",
       "      <td>3321</td>\n",
       "      <td>3473</td>\n",
       "      <td>3206</td>\n",
       "    </tr>\n",
       "    <tr>\n",
       "      <th>1002</th>\n",
       "      <td>4</td>\n",
       "      <td>0</td>\n",
       "      <td>198</td>\n",
       "      <td>100</td>\n",
       "      <td>100</td>\n",
       "      <td>True</td>\n",
       "      <td>3</td>\n",
       "      <td>0.333333</td>\n",
       "      <td>0.333333</td>\n",
       "      <td>0.333333</td>\n",
       "      <td>0</td>\n",
       "      <td>0</td>\n",
       "      <td>4</td>\n",
       "      <td>3344</td>\n",
       "      <td>3421</td>\n",
       "      <td>3235</td>\n",
       "    </tr>\n",
       "    <tr>\n",
       "      <th>1003</th>\n",
       "      <td>4</td>\n",
       "      <td>0</td>\n",
       "      <td>199</td>\n",
       "      <td>100</td>\n",
       "      <td>100</td>\n",
       "      <td>True</td>\n",
       "      <td>3</td>\n",
       "      <td>0.333333</td>\n",
       "      <td>0.333333</td>\n",
       "      <td>0.333333</td>\n",
       "      <td>0</td>\n",
       "      <td>0</td>\n",
       "      <td>4</td>\n",
       "      <td>3404</td>\n",
       "      <td>3318</td>\n",
       "      <td>3278</td>\n",
       "    </tr>\n",
       "    <tr>\n",
       "      <th>1004</th>\n",
       "      <td>4</td>\n",
       "      <td>0</td>\n",
       "      <td>200</td>\n",
       "      <td>100</td>\n",
       "      <td>100</td>\n",
       "      <td>True</td>\n",
       "      <td>3</td>\n",
       "      <td>0.333333</td>\n",
       "      <td>0.333333</td>\n",
       "      <td>0.333333</td>\n",
       "      <td>0</td>\n",
       "      <td>0</td>\n",
       "      <td>4</td>\n",
       "      <td>3471</td>\n",
       "      <td>3236</td>\n",
       "      <td>3293</td>\n",
       "    </tr>\n",
       "  </tbody>\n",
       "</table>\n",
       "<p>1005 rows × 16 columns</p>\n",
       "</div>"
      ],
      "text/plain": [
       "      RunId  iteration  Step  height  width   hex  n_species     prob0  \\\n",
       "0         0          0     0     100    100  True          3  0.333333   \n",
       "1         0          0     1     100    100  True          3  0.333333   \n",
       "2         0          0     2     100    100  True          3  0.333333   \n",
       "3         0          0     3     100    100  True          3  0.333333   \n",
       "4         0          0     4     100    100  True          3  0.333333   \n",
       "...     ...        ...   ...     ...    ...   ...        ...       ...   \n",
       "1000      4          0   196     100    100  True          3  0.333333   \n",
       "1001      4          0   197     100    100  True          3  0.333333   \n",
       "1002      4          0   198     100    100  True          3  0.333333   \n",
       "1003      4          0   199     100    100  True          3  0.333333   \n",
       "1004      4          0   200     100    100  True          3  0.333333   \n",
       "\n",
       "         prob1     prob2  prob3  prob4  color_map  rock  scissors  paper  \n",
       "0     0.333333  0.333333      0      0          0  3363      3287   3350  \n",
       "1     0.333333  0.333333      0      0          0  3324      3314   3362  \n",
       "2     0.333333  0.333333      0      0          0  3355      3283   3362  \n",
       "3     0.333333  0.333333      0      0          0  3382      3270   3348  \n",
       "4     0.333333  0.333333      0      0          0  3361      3281   3358  \n",
       "...        ...       ...    ...    ...        ...   ...       ...    ...  \n",
       "1000  0.333333  0.333333      0      0          4  3288      3475   3237  \n",
       "1001  0.333333  0.333333      0      0          4  3321      3473   3206  \n",
       "1002  0.333333  0.333333      0      0          4  3344      3421   3235  \n",
       "1003  0.333333  0.333333      0      0          4  3404      3318   3278  \n",
       "1004  0.333333  0.333333      0      0          4  3471      3236   3293  \n",
       "\n",
       "[1005 rows x 16 columns]"
      ]
     },
     "execution_count": 2,
     "metadata": {},
     "output_type": "execute_result"
    }
   ],
   "source": [
    "model_params_MV = {\n",
    "    \"height\": 100,\n",
    "    \"width\": 100,\n",
    "    \"hex\": True,\n",
    "    \"n_species\": 3,\n",
    "    \"prob0\": 1/3,\n",
    "    \"prob1\": 1/3,\n",
    "    \"prob2\": 1/3,\n",
    "    \"prob3\": 0,\n",
    "    \"prob4\": 0,\n",
    "    \"color_map\": [{\n",
    "        0: 'red',\n",
    "        1: 'yellow',\n",
    "        2: 'purple',\n",
    "        3: 'green',\n",
    "        4: 'blue'\n",
    "    }]\n",
    "}\n",
    "results = mesa.batch_run(\n",
    "    RockScissorsPaperMV,\n",
    "    parameters=model_params_MV,\n",
    "    iterations=1, # per ogni comb di parametri, quante volte fare run\n",
    "    max_steps=200,\n",
    "    number_processes=1,\n",
    "    data_collection_period=1,  # 1, altrimenti il datacollector raccolie i dati solo all'ultimo step\n",
    "    display_progress=True,\n",
    ")\n",
    "\n",
    "results_df= pd.DataFrame(results)\n",
    "results_df.rename(columns={0: \"rock\", 1: \"scissors\", 2: \"paper\"}, inplace=True)\n",
    "results_df"
   ]
  },
  {
   "cell_type": "code",
   "execution_count": 3,
   "metadata": {},
   "outputs": [
    {
     "data": {
      "text/plain": [
       "<Axes: >"
      ]
     },
     "execution_count": 3,
     "metadata": {},
     "output_type": "execute_result"
    },
    {
     "data": {
      "image/png": "[encoded data removed]",
      "text/plain": [
       "<Figure size 1500x600 with 1 Axes>"
      ]
     },
     "metadata": {},
     "output_type": "display_data"
    }
   ],
   "source": [
    "_, axs = plt.subplots(1, figsize=(15, 6))\n",
    "results_df[[\"rock\", \"scissors\", \"paper\"]].plot(ax=axs, style='-o')"
   ]
  },
  {
   "cell_type": "code",
   "execution_count": 4,
   "metadata": {},
   "outputs": [
    {
     "data": {
      "application/vnd.plotly.v1+json": {
       "config": {
        "plotlyServerURL": "https://plot.ly"
       },
       "data": [
        {
         "a": [
          3350,
          3362,
          3362,
          3348,
          3358,
          3337,
          3345,
          3394,
          3437,
          3466,
          3479,
          3455,
          3433,
          3424,
          3438,
          3453,
          3496,
          3494,
          3459,
          3409,
          3393,
          3411,
          3415,
          3353,
          3273,
          3255,
          3241,
          3312,
          3381,
          3421,
          3384,
          3350,
          3322,
          3340,
          3352,
          3336,
          3322,
          3263,
          3246,
          3250,
          3290,
          3323,
          3315,
          3327,
          3331,
          3370,
          3411,
          3394,
          3375,
          3327,
          3299,
          3294,
          3326,
          3314,
          3301,
          3305,
          3306,
          3372,
          3423,
          3408,
          3377,
          3320,
          3282,
          3290,
          3320,
          3316,
          3301,
          3301,
          3312,
          3380,
          3437,
          3431,
          3396,
          3328,
          3278,
          3282,
          3312,
          3303,
          3290,
          3290,
          3297,
          3369,
          3429,
          3427,
          3390,
          3321,
          3268,
          3272,
          3293,
          3301,
          3296,
          3295,
          3307,
          3375,
          3433,
          3418,
          3387,
          3321,
          3264,
          3275,
          3310,
          3311,
          3307,
          3315,
          3312,
          3377,
          3435,
          3423,
          3382,
          3314,
          3257,
          3262,
          3297,
          3303,
          3303,
          3308,
          3310,
          3379,
          3436,
          3420,
          3382,
          3309,
          3252,
          3260,
          3295,
          3298,
          3302,
          3313,
          3323,
          3389,
          3444,
          3429,
          3387,
          3317,
          3258,
          3261,
          3290,
          3298,
          3301,
          3308,
          3316,
          3384,
          3443,
          3427,
          3388,
          3316,
          3256,
          3263,
          3297,
          3300,
          3300,
          3312,
          3322,
          3387,
          3444,
          3429,
          3387,
          3317,
          3258,
          3261,
          3290,
          3298,
          3301,
          3308,
          3316,
          3384,
          3443,
          3427,
          3388,
          3316,
          3256,
          3263,
          3297,
          3300,
          3300,
          3312,
          3322,
          3387,
          3444,
          3429,
          3387,
          3317,
          3258,
          3261,
          3290,
          3298,
          3301,
          3308,
          3316,
          3384,
          3443,
          3427,
          3388,
          3316,
          3256,
          3263,
          3297,
          3300,
          3300,
          3312,
          3322
         ],
         "b": [
          3363,
          3324,
          3355,
          3382,
          3361,
          3365,
          3370,
          3353,
          3374,
          3418,
          3428,
          3431,
          3442,
          3434,
          3356,
          3297,
          3246,
          3222,
          3180,
          3139,
          3110,
          3083,
          3124,
          3250,
          3374,
          3422,
          3420,
          3355,
          3340,
          3345,
          3356,
          3345,
          3324,
          3259,
          3247,
          3276,
          3318,
          3345,
          3341,
          3355,
          3353,
          3379,
          3407,
          3387,
          3357,
          3303,
          3287,
          3296,
          3316,
          3313,
          3290,
          3291,
          3287,
          3362,
          3421,
          3419,
          3377,
          3329,
          3281,
          3295,
          3330,
          3315,
          3299,
          3299,
          3297,
          3366,
          3427,
          3422,
          3381,
          3321,
          3271,
          3272,
          3300,
          3298,
          3291,
          3286,
          3289,
          3365,
          3432,
          3427,
          3394,
          3327,
          3272,
          3277,
          3308,
          3311,
          3301,
          3308,
          3319,
          3383,
          3437,
          3427,
          3392,
          3324,
          3263,
          3272,
          3301,
          3308,
          3310,
          3310,
          3306,
          3371,
          3431,
          3417,
          3388,
          3324,
          3260,
          3267,
          3307,
          3309,
          3311,
          3320,
          3324,
          3385,
          3444,
          3429,
          3390,
          3321,
          3258,
          3261,
          3294,
          3303,
          3312,
          3316,
          3319,
          3385,
          3443,
          3429,
          3390,
          3319,
          3252,
          3259,
          3295,
          3298,
          3303,
          3313,
          3321,
          3384,
          3444,
          3431,
          3389,
          3320,
          3254,
          3257,
          3288,
          3296,
          3304,
          3309,
          3315,
          3381,
          3443,
          3429,
          3390,
          3319,
          3252,
          3259,
          3295,
          3298,
          3303,
          3313,
          3321,
          3384,
          3444,
          3431,
          3389,
          3320,
          3254,
          3257,
          3288,
          3296,
          3304,
          3309,
          3315,
          3381,
          3443,
          3429,
          3390,
          3319,
          3252,
          3259,
          3295,
          3298,
          3303,
          3313,
          3321,
          3384,
          3444,
          3431,
          3389,
          3320,
          3254,
          3257,
          3288,
          3296,
          3304,
          3309,
          3315,
          3381,
          3443,
          3429,
          3390
         ],
         "c": [
          3287,
          3314,
          3283,
          3270,
          3281,
          3298,
          3285,
          3253,
          3189,
          3116,
          3093,
          3114,
          3125,
          3142,
          3206,
          3250,
          3258,
          3284,
          3361,
          3452,
          3497,
          3506,
          3461,
          3397,
          3353,
          3323,
          3339,
          3333,
          3279,
          3234,
          3260,
          3305,
          3354,
          3401,
          3401,
          3388,
          3360,
          3392,
          3413,
          3395,
          3357,
          3298,
          3278,
          3286,
          3312,
          3327,
          3302,
          3310,
          3309,
          3360,
          3411,
          3415,
          3387,
          3324,
          3278,
          3276,
          3317,
          3299,
          3296,
          3297,
          3293,
          3365,
          3419,
          3411,
          3383,
          3318,
          3272,
          3277,
          3307,
          3299,
          3292,
          3297,
          3304,
          3374,
          3431,
          3432,
          3399,
          3332,
          3278,
          3283,
          3309,
          3304,
          3299,
          3296,
          3302,
          3368,
          3431,
          3420,
          3388,
          3316,
          3267,
          3278,
          3301,
          3301,
          3304,
          3310,
          3312,
          3371,
          3426,
          3415,
          3384,
          3318,
          3262,
          3268,
          3300,
          3299,
          3305,
          3310,
          3311,
          3377,
          3432,
          3418,
          3379,
          3312,
          3253,
          3263,
          3300,
          3300,
          3306,
          3319,
          3324,
          3388,
          3436,
          3424,
          3386,
          3317,
          3255,
          3258,
          3287,
          3292,
          3304,
          3312,
          3318,
          3385,
          3439,
          3426,
          3389,
          3318,
          3255,
          3261,
          3295,
          3296,
          3303,
          3316,
          3324,
          3388,
          3440,
          3428,
          3388,
          3319,
          3257,
          3259,
          3288,
          3294,
          3304,
          3312,
          3318,
          3385,
          3439,
          3426,
          3389,
          3318,
          3255,
          3261,
          3295,
          3296,
          3303,
          3316,
          3324,
          3388,
          3440,
          3428,
          3388,
          3319,
          3257,
          3259,
          3288,
          3294,
          3304,
          3312,
          3318,
          3385,
          3439,
          3426,
          3389,
          3318,
          3255,
          3261,
          3295,
          3296,
          3303,
          3316,
          3324,
          3388,
          3440,
          3428,
          3388,
          3319,
          3257,
          3259,
          3288
         ],
         "hovertemplate": "paper=%{a}<br>rock=%{b}<br>scissors=%{c}<br>color=%{marker.color}<extra></extra>",
         "legendgroup": "",
         "line": {
          "color": "black"
         },
         "marker": {
          "color": [
           0,
           1,
           2,
           3,
           4,
           5,
           6,
           7,
           8,
           9,
           10,
           11,
           12,
           13,
           14,
           15,
           16,
           17,
           18,
           19,
           20,
           21,
           22,
           23,
           24,
           25,
           26,
           27,
           28,
           29,
           30,
           31,
           32,
           33,
           34,
           35,
           36,
           37,
           38,
           39,
           40,
           41,
           42,
           43,
           44,
           45,
           46,
           47,
           48,
           49,
           50,
           51,
           52,
           53,
           54,
           55,
           56,
           57,
           58,
           59,
           60,
           61,
           62,
           63,
           64,
           65,
           66,
           67,
           68,
           69,
           70,
           71,
           72,
           73,
           74,
           75,
           76,
           77,
           78,
           79,
           80,
           81,
           82,
           83,
           84,
           85,
           86,
           87,
           88,
           89,
           90,
           91,
           92,
           93,
           94,
           95,
           96,
           97,
           98,
           99,
           100,
           101,
           102,
           103,
           104,
           105,
           106,
           107,
           108,
           109,
           110,
           111,
           112,
           113,
           114,
           115,
           116,
           117,
           118,
           119,
           120,
           121,
           122,
           123,
           124,
           125,
           126,
           127,
           128,
           129,
           130,
           131,
           132,
           133,
           134,
           135,
           136,
           137,
           138,
           139,
           140,
           141,
           142,
           143,
           144,
           145,
           146,
           147,
           148,
           149,
           150,
           151,
           152,
           153,
           154,
           155,
           156,
           157,
           158,
           159,
           160,
           161,
           162,
           163,
           164,
           165,
           166,
           167,
           168,
           169,
           170,
           171,
           172,
           173,
           174,
           175,
           176,
           177,
           178,
           179,
           180,
           181,
           182,
           183,
           184,
           185,
           186,
           187,
           188,
           189,
           190,
           191,
           192,
           193,
           194,
           195,
           196,
           197,
           198,
           199,
           200
          ],
          "coloraxis": "coloraxis",
          "symbol": "circle"
         },
         "mode": "lines+markers",
         "name": "",
         "showlegend": false,
         "subplot": "ternary",
         "type": "scatterternary"
        }
       ],
       "layout": {
        "coloraxis": {
         "colorbar": {
          "title": {
           "text": "Time"
          }
         },
         "colorscale": [
          [
           0,
           "#0d0887"
          ],
          [
           0.1111111111111111,
           "#46039f"
          ],
          [
           0.2222222222222222,
           "#7201a8"
          ],
          [
           0.3333333333333333,
           "#9c179e"
          ],
          [
           0.4444444444444444,
           "#bd3786"
          ],
          [
           0.5555555555555556,
           "#d8576b"
          ],
          [
           0.6666666666666666,
           "#ed7953"
          ],
          [
           0.7777777777777778,
           "#fb9f3a"
          ],
          [
           0.8888888888888888,
           "#fdca26"
          ],
          [
           1,
           "#f0f921"
          ]
         ]
        },
        "legend": {
         "tracegroupgap": 0
        },
        "template": {
         "data": {
          "bar": [
           {
            "error_x": {
             "color": "#2a3f5f"
            },
            "error_y": {
             "color": "#2a3f5f"
            },
            "marker": {
             "line": {
              "color": "#E5ECF6",
              "width": 0.5
             },
             "pattern": {
              "fillmode": "overlay",
              "size": 10,
              "solidity": 0.2
             }
            },
            "type": "bar"
           }
          ],
          "barpolar": [
           {
            "marker": {
             "line": {
              "color": "#E5ECF6",
              "width": 0.5
             },
             "pattern": {
              "fillmode": "overlay",
              "size": 10,
              "solidity": 0.2
             }
            },
            "type": "barpolar"
           }
          ],
          "carpet": [
           {
            "aaxis": {
             "endlinecolor": "#2a3f5f",
             "gridcolor": "white",
             "linecolor": "white",
             "minorgridcolor": "white",
             "startlinecolor": "#2a3f5f"
            },
            "baxis": {
             "endlinecolor": "#2a3f5f",
             "gridcolor": "white",
             "linecolor": "white",
             "minorgridcolor": "white",
             "startlinecolor": "#2a3f5f"
            },
            "type": "carpet"
           }
          ],
          "choropleth": [
           {
            "colorbar": {
             "outlinewidth": 0,
             "ticks": ""
            },
            "type": "choropleth"
           }
          ],
          "contour": [
           {
            "colorbar": {
             "outlinewidth": 0,
             "ticks": ""
            },
            "colorscale": [
             [
              0,
              "#0d0887"
             ],
             [
              0.1111111111111111,
              "#46039f"
             ],
             [
              0.2222222222222222,
              "#7201a8"
             ],
             [
              0.3333333333333333,
              "#9c179e"
             ],
             [
              0.4444444444444444,
              "#bd3786"
             ],
             [
              0.5555555555555556,
              "#d8576b"
             ],
             [
              0.6666666666666666,
              "#ed7953"
             ],
             [
              0.7777777777777778,
              "#fb9f3a"
             ],
             [
              0.8888888888888888,
              "#fdca26"
             ],
             [
              1,
              "#f0f921"
             ]
            ],
            "type": "contour"
           }
          ],
          "contourcarpet": [
           {
            "colorbar": {
             "outlinewidth": 0,
             "ticks": ""
            },
            "type": "contourcarpet"
           }
          ],
          "heatmap": [
           {
            "colorbar": {
             "outlinewidth": 0,
             "ticks": ""
            },
            "colorscale": [
             [
              0,
              "#0d0887"
             ],
             [
              0.1111111111111111,
              "#46039f"
             ],
             [
              0.2222222222222222,
              "#7201a8"
             ],
             [
              0.3333333333333333,
              "#9c179e"
             ],
             [
              0.4444444444444444,
              "#bd3786"
             ],
             [
              0.5555555555555556,
              "#d8576b"
             ],
             [
              0.6666666666666666,
              "#ed7953"
             ],
             [
              0.7777777777777778,
              "#fb9f3a"
             ],
             [
              0.8888888888888888,
              "#fdca26"
             ],
             [
              1,
              "#f0f921"
             ]
            ],
            "type": "heatmap"
           }
          ],
          "heatmapgl": [
           {
            "colorbar": {
             "outlinewidth": 0,
             "ticks": ""
            },
            "colorscale": [
             [
              0,
              "#0d0887"
             ],
             [
              0.1111111111111111,
              "#46039f"
             ],
             [
              0.2222222222222222,
              "#7201a8"
             ],
             [
              0.3333333333333333,
              "#9c179e"
             ],
             [
              0.4444444444444444,
              "#bd3786"
             ],
             [
              0.5555555555555556,
              "#d8576b"
             ],
             [
              0.6666666666666666,
              "#ed7953"
             ],
             [
              0.7777777777777778,
              "#fb9f3a"
             ],
             [
              0.8888888888888888,
              "#fdca26"
             ],
             [
              1,
              "#f0f921"
             ]
            ],
            "type": "heatmapgl"
           }
          ],
          "histogram": [
           {
            "marker": {
             "pattern": {
              "fillmode": "overlay",
              "size": 10,
              "solidity": 0.2
             }
            },
            "type": "histogram"
           }
          ],
          "histogram2d": [
           {
            "colorbar": {
             "outlinewidth": 0,
             "ticks": ""
            },
            "colorscale": [
             [
              0,
              "#0d0887"
             ],
             [
              0.1111111111111111,
              "#46039f"
             ],
             [
              0.2222222222222222,
              "#7201a8"
             ],
             [
              0.3333333333333333,
              "#9c179e"
             ],
             [
              0.4444444444444444,
              "#bd3786"
             ],
             [
              0.5555555555555556,
              "#d8576b"
             ],
             [
              0.6666666666666666,
              "#ed7953"
             ],
             [
              0.7777777777777778,
              "#fb9f3a"
             ],
             [
              0.8888888888888888,
              "#fdca26"
             ],
             [
              1,
              "#f0f921"
             ]
            ],
            "type": "histogram2d"
           }
          ],
          "histogram2dcontour": [
           {
            "colorbar": {
             "outlinewidth": 0,
             "ticks": ""
            },
            "colorscale": [
             [
              0,
              "#0d0887"
             ],
             [
              0.1111111111111111,
              "#46039f"
             ],
             [
              0.2222222222222222,
              "#7201a8"
             ],
             [
              0.3333333333333333,
              "#9c179e"
             ],
             [
              0.4444444444444444,
              "#bd3786"
             ],
             [
              0.5555555555555556,
              "#d8576b"
             ],
             [
              0.6666666666666666,
              "#ed7953"
             ],
             [
              0.7777777777777778,
              "#fb9f3a"
             ],
             [
              0.8888888888888888,
              "#fdca26"
             ],
             [
              1,
              "#f0f921"
             ]
            ],
            "type": "histogram2dcontour"
           }
          ],
          "mesh3d": [
           {
            "colorbar": {
             "outlinewidth": 0,
             "ticks": ""
            },
            "type": "mesh3d"
           }
          ],
          "parcoords": [
           {
            "line": {
             "colorbar": {
              "outlinewidth": 0,
              "ticks": ""
             }
            },
            "type": "parcoords"
           }
          ],
          "pie": [
           {
            "automargin": true,
            "type": "pie"
           }
          ],
          "scatter": [
           {
            "fillpattern": {
             "fillmode": "overlay",
             "size": 10,
             "solidity": 0.2
            },
            "type": "scatter"
           }
          ],
          "scatter3d": [
           {
            "line": {
             "colorbar": {
              "outlinewidth": 0,
              "ticks": ""
             }
            },
            "marker": {
             "colorbar": {
              "outlinewidth": 0,
              "ticks": ""
             }
            },
            "type": "scatter3d"
           }
          ],
          "scattercarpet": [
           {
            "marker": {
             "colorbar": {
              "outlinewidth": 0,
              "ticks": ""
             }
            },
            "type": "scattercarpet"
           }
          ],
          "scattergeo": [
           {
            "marker": {
             "colorbar": {
              "outlinewidth": 0,
              "ticks": ""
             }
            },
            "type": "scattergeo"
           }
          ],
          "scattergl": [
           {
            "marker": {
             "colorbar": {
              "outlinewidth": 0,
              "ticks": ""
             }
            },
            "type": "scattergl"
           }
          ],
          "scattermapbox": [
           {
            "marker": {
             "colorbar": {
              "outlinewidth": 0,
              "ticks": ""
             }
            },
            "type": "scattermapbox"
           }
          ],
          "scatterpolar": [
           {
            "marker": {
             "colorbar": {
              "outlinewidth": 0,
              "ticks": ""
             }
            },
            "type": "scatterpolar"
           }
          ],
          "scatterpolargl": [
           {
            "marker": {
             "colorbar": {
              "outlinewidth": 0,
              "ticks": ""
             }
            },
            "type": "scatterpolargl"
           }
          ],
          "scatterternary": [
           {
            "marker": {
             "colorbar": {
              "outlinewidth": 0,
              "ticks": ""
             }
            },
            "type": "scatterternary"
           }
          ],
          "surface": [
           {
            "colorbar": {
             "outlinewidth": 0,
             "ticks": ""
            },
            "colorscale": [
             [
              0,
              "#0d0887"
             ],
             [
              0.1111111111111111,
              "#46039f"
             ],
             [
              0.2222222222222222,
              "#7201a8"
             ],
             [
              0.3333333333333333,
              "#9c179e"
             ],
             [
              0.4444444444444444,
              "#bd3786"
             ],
             [
              0.5555555555555556,
              "#d8576b"
             ],
             [
              0.6666666666666666,
              "#ed7953"
             ],
             [
              0.7777777777777778,
              "#fb9f3a"
             ],
             [
              0.8888888888888888,
              "#fdca26"
             ],
             [
              1,
              "#f0f921"
             ]
            ],
            "type": "surface"
           }
          ],
          "table": [
           {
            "cells": {
             "fill": {
              "color": "#EBF0F8"
             },
             "line": {
              "color": "white"
             }
            },
            "header": {
             "fill": {
              "color": "#C8D4E3"
             },
             "line": {
              "color": "white"
             }
            },
            "type": "table"
           }
          ]
         },
         "layout": {
          "annotationdefaults": {
           "arrowcolor": "#2a3f5f",
           "arrowhead": 0,
           "arrowwidth": 1
          },
          "autotypenumbers": "strict",
          "coloraxis": {
           "colorbar": {
            "outlinewidth": 0,
            "ticks": ""
           }
          },
          "colorscale": {
           "diverging": [
            [
             0,
             "#8e0152"
            ],
            [
             0.1,
             "#c51b7d"
            ],
            [
             0.2,
             "#de77ae"
            ],
            [
             0.3,
             "#f1b6da"
            ],
            [
             0.4,
             "#fde0ef"
            ],
            [
             0.5,
             "#f7f7f7"
            ],
            [
             0.6,
             "#e6f5d0"
            ],
            [
             0.7,
             "#b8e186"
            ],
            [
             0.8,
             "#7fbc41"
            ],
            [
             0.9,
             "#4d9221"
            ],
            [
             1,
             "#276419"
            ]
           ],
           "sequential": [
            [
             0,
             "#0d0887"
            ],
            [
             0.1111111111111111,
             "#46039f"
            ],
            [
             0.2222222222222222,
             "#7201a8"
            ],
            [
             0.3333333333333333,
             "#9c179e"
            ],
            [
             0.4444444444444444,
             "#bd3786"
            ],
            [
             0.5555555555555556,
             "#d8576b"
            ],
            [
             0.6666666666666666,
             "#ed7953"
            ],
            [
             0.7777777777777778,
             "#fb9f3a"
            ],
            [
             0.8888888888888888,
             "#fdca26"
            ],
            [
             1,
             "#f0f921"
            ]
           ],
           "sequentialminus": [
            [
             0,
             "#0d0887"
            ],
            [
             0.1111111111111111,
             "#46039f"
            ],
            [
             0.2222222222222222,
             "#7201a8"
            ],
            [
             0.3333333333333333,
             "#9c179e"
            ],
            [
             0.4444444444444444,
             "#bd3786"
            ],
            [
             0.5555555555555556,
             "#d8576b"
            ],
            [
             0.6666666666666666,
             "#ed7953"
            ],
            [
             0.7777777777777778,
             "#fb9f3a"
            ],
            [
             0.8888888888888888,
             "#fdca26"
            ],
            [
             1,
             "#f0f921"
            ]
           ]
          },
          "colorway": [
           "#636efa",
           "#EF553B",
           "#00cc96",
           "#ab63fa",
           "#FFA15A",
           "#19d3f3",
           "#FF6692",
           "#B6E880",
           "#FF97FF",
           "#FECB52"
          ],
          "font": {
           "color": "#2a3f5f"
          },
          "geo": {
           "bgcolor": "white",
           "lakecolor": "white",
           "landcolor": "#E5ECF6",
           "showlakes": true,
           "showland": true,
           "subunitcolor": "white"
          },
          "hoverlabel": {
           "align": "left"
          },
          "hovermode": "closest",
          "mapbox": {
           "style": "light"
          },
          "paper_bgcolor": "white",
          "plot_bgcolor": "#E5ECF6",
          "polar": {
           "angularaxis": {
            "gridcolor": "white",
            "linecolor": "white",
            "ticks": ""
           },
           "bgcolor": "#E5ECF6",
           "radialaxis": {
            "gridcolor": "white",
            "linecolor": "white",
            "ticks": ""
           }
          },
          "scene": {
           "xaxis": {
            "backgroundcolor": "#E5ECF6",
            "gridcolor": "white",
            "gridwidth": 2,
            "linecolor": "white",
            "showbackground": true,
            "ticks": "",
            "zerolinecolor": "white"
           },
           "yaxis": {
            "backgroundcolor": "#E5ECF6",
            "gridcolor": "white",
            "gridwidth": 2,
            "linecolor": "white",
            "showbackground": true,
            "ticks": "",
            "zerolinecolor": "white"
           },
           "zaxis": {
            "backgroundcolor": "#E5ECF6",
            "gridcolor": "white",
            "gridwidth": 2,
            "linecolor": "white",
            "showbackground": true,
            "ticks": "",
            "zerolinecolor": "white"
           }
          },
          "shapedefaults": {
           "line": {
            "color": "#2a3f5f"
           }
          },
          "ternary": {
           "aaxis": {
            "gridcolor": "white",
            "linecolor": "white",
            "ticks": ""
           },
           "baxis": {
            "gridcolor": "white",
            "linecolor": "white",
            "ticks": ""
           },
           "bgcolor": "#E5ECF6",
           "caxis": {
            "gridcolor": "white",
            "linecolor": "white",
            "ticks": ""
           }
          },
          "title": {
           "x": 0.05
          },
          "xaxis": {
           "automargin": true,
           "gridcolor": "white",
           "linecolor": "white",
           "ticks": "",
           "title": {
            "standoff": 15
           },
           "zerolinecolor": "white",
           "zerolinewidth": 2
          },
          "yaxis": {
           "automargin": true,
           "gridcolor": "white",
           "linecolor": "white",
           "ticks": "",
           "title": {
            "standoff": 15
           },
           "zerolinecolor": "white",
           "zerolinewidth": 2
          }
         }
        },
        "ternary": {
         "aaxis": {
          "title": {
           "text": "paper"
          }
         },
         "baxis": {
          "title": {
           "text": "rock"
          }
         },
         "caxis": {
          "title": {
           "text": "scissors"
          }
         },
         "domain": {
          "x": [
           0,
           1
          ],
          "y": [
           0,
           1
          ]
         }
        },
        "title": {
         "text": "RSP Model"
        }
       }
      }
     },
     "metadata": {},
     "output_type": "display_data"
    }
   ],
   "source": [
    "fig = px.scatter_ternary(\n",
    "    results_df,\n",
    "    a=\"paper\",\n",
    "    b=\"rock\",\n",
    "    c=\"scissors\",\n",
    "    color=results_df.index,\n",
    "    size_max=10,\n",
    "    title=\"RSP Model\"\n",
    "    )\n",
    "fig.update_traces(mode='lines+markers', line=dict(color='black'))\n",
    "fig.update_layout(coloraxis_colorbar=dict(title='Time'))"
   ]
  },
  {
   "cell_type": "code",
   "execution_count": 19,
   "metadata": {},
   "outputs": [
    {
     "data": {
      "application/vnd.jupyter.widget-view+json": {
       "model_id": "c1565ab43469465ba64144cf6c434c1b",
       "version_major": 2,
       "version_minor": 0
      },
      "text/plain": [
       "  0%|          | 0/5 [00:00<?, ?it/s]"
      ]
     },
     "metadata": {},
     "output_type": "display_data"
    },
    {
     "data": {
      "text/html": [
       "<div>\n",
       "<style scoped>\n",
       "    .dataframe tbody tr th:only-of-type {\n",
       "        vertical-align: middle;\n",
       "    }\n",
       "\n",
       "    .dataframe tbody tr th {\n",
       "        vertical-align: top;\n",
       "    }\n",
       "\n",
       "    .dataframe thead th {\n",
       "        text-align: right;\n",
       "    }\n",
       "</style>\n",
       "<table border=\"1\" class=\"dataframe\">\n",
       "  <thead>\n",
       "    <tr style=\"text-align: right;\">\n",
       "      <th></th>\n",
       "      <th>RunId</th>\n",
       "      <th>iteration</th>\n",
       "      <th>Step</th>\n",
       "      <th>height</th>\n",
       "      <th>width</th>\n",
       "      <th>hex</th>\n",
       "      <th>n_species</th>\n",
       "      <th>prob0</th>\n",
       "      <th>prob1</th>\n",
       "      <th>prob2</th>\n",
       "      <th>prob3</th>\n",
       "      <th>prob4</th>\n",
       "      <th>prob5</th>\n",
       "      <th>color_map</th>\n",
       "      <th>empty</th>\n",
       "      <th>rock</th>\n",
       "      <th>scissors</th>\n",
       "      <th>paper</th>\n",
       "    </tr>\n",
       "  </thead>\n",
       "  <tbody>\n",
       "    <tr>\n",
       "      <th>0</th>\n",
       "      <td>0</td>\n",
       "      <td>0</td>\n",
       "      <td>0</td>\n",
       "      <td>100</td>\n",
       "      <td>100</td>\n",
       "      <td>True</td>\n",
       "      <td>3</td>\n",
       "      <td>0.25</td>\n",
       "      <td>0.25</td>\n",
       "      <td>0.25</td>\n",
       "      <td>0.25</td>\n",
       "      <td>0</td>\n",
       "      <td>0</td>\n",
       "      <td>0</td>\n",
       "      <td>2413</td>\n",
       "      <td>2531</td>\n",
       "      <td>2577</td>\n",
       "      <td>2479</td>\n",
       "    </tr>\n",
       "    <tr>\n",
       "      <th>1</th>\n",
       "      <td>0</td>\n",
       "      <td>0</td>\n",
       "      <td>1</td>\n",
       "      <td>100</td>\n",
       "      <td>100</td>\n",
       "      <td>True</td>\n",
       "      <td>3</td>\n",
       "      <td>0.25</td>\n",
       "      <td>0.25</td>\n",
       "      <td>0.25</td>\n",
       "      <td>0.25</td>\n",
       "      <td>0</td>\n",
       "      <td>0</td>\n",
       "      <td>0</td>\n",
       "      <td>2444</td>\n",
       "      <td>2520</td>\n",
       "      <td>2588</td>\n",
       "      <td>2448</td>\n",
       "    </tr>\n",
       "    <tr>\n",
       "      <th>2</th>\n",
       "      <td>0</td>\n",
       "      <td>0</td>\n",
       "      <td>2</td>\n",
       "      <td>100</td>\n",
       "      <td>100</td>\n",
       "      <td>True</td>\n",
       "      <td>3</td>\n",
       "      <td>0.25</td>\n",
       "      <td>0.25</td>\n",
       "      <td>0.25</td>\n",
       "      <td>0.25</td>\n",
       "      <td>0</td>\n",
       "      <td>0</td>\n",
       "      <td>0</td>\n",
       "      <td>2373</td>\n",
       "      <td>2557</td>\n",
       "      <td>2609</td>\n",
       "      <td>2461</td>\n",
       "    </tr>\n",
       "    <tr>\n",
       "      <th>3</th>\n",
       "      <td>0</td>\n",
       "      <td>0</td>\n",
       "      <td>3</td>\n",
       "      <td>100</td>\n",
       "      <td>100</td>\n",
       "      <td>True</td>\n",
       "      <td>3</td>\n",
       "      <td>0.25</td>\n",
       "      <td>0.25</td>\n",
       "      <td>0.25</td>\n",
       "      <td>0.25</td>\n",
       "      <td>0</td>\n",
       "      <td>0</td>\n",
       "      <td>0</td>\n",
       "      <td>2257</td>\n",
       "      <td>2648</td>\n",
       "      <td>2610</td>\n",
       "      <td>2485</td>\n",
       "    </tr>\n",
       "    <tr>\n",
       "      <th>4</th>\n",
       "      <td>0</td>\n",
       "      <td>0</td>\n",
       "      <td>4</td>\n",
       "      <td>100</td>\n",
       "      <td>100</td>\n",
       "      <td>True</td>\n",
       "      <td>3</td>\n",
       "      <td>0.25</td>\n",
       "      <td>0.25</td>\n",
       "      <td>0.25</td>\n",
       "      <td>0.25</td>\n",
       "      <td>0</td>\n",
       "      <td>0</td>\n",
       "      <td>0</td>\n",
       "      <td>2214</td>\n",
       "      <td>2633</td>\n",
       "      <td>2605</td>\n",
       "      <td>2548</td>\n",
       "    </tr>\n",
       "    <tr>\n",
       "      <th>...</th>\n",
       "      <td>...</td>\n",
       "      <td>...</td>\n",
       "      <td>...</td>\n",
       "      <td>...</td>\n",
       "      <td>...</td>\n",
       "      <td>...</td>\n",
       "      <td>...</td>\n",
       "      <td>...</td>\n",
       "      <td>...</td>\n",
       "      <td>...</td>\n",
       "      <td>...</td>\n",
       "      <td>...</td>\n",
       "      <td>...</td>\n",
       "      <td>...</td>\n",
       "      <td>...</td>\n",
       "      <td>...</td>\n",
       "      <td>...</td>\n",
       "      <td>...</td>\n",
       "    </tr>\n",
       "    <tr>\n",
       "      <th>1000</th>\n",
       "      <td>4</td>\n",
       "      <td>0</td>\n",
       "      <td>196</td>\n",
       "      <td>100</td>\n",
       "      <td>100</td>\n",
       "      <td>True</td>\n",
       "      <td>3</td>\n",
       "      <td>0.25</td>\n",
       "      <td>0.25</td>\n",
       "      <td>0.25</td>\n",
       "      <td>0.25</td>\n",
       "      <td>0</td>\n",
       "      <td>0</td>\n",
       "      <td>4</td>\n",
       "      <td>966</td>\n",
       "      <td>2844</td>\n",
       "      <td>3289</td>\n",
       "      <td>2901</td>\n",
       "    </tr>\n",
       "    <tr>\n",
       "      <th>1001</th>\n",
       "      <td>4</td>\n",
       "      <td>0</td>\n",
       "      <td>197</td>\n",
       "      <td>100</td>\n",
       "      <td>100</td>\n",
       "      <td>True</td>\n",
       "      <td>3</td>\n",
       "      <td>0.25</td>\n",
       "      <td>0.25</td>\n",
       "      <td>0.25</td>\n",
       "      <td>0.25</td>\n",
       "      <td>0</td>\n",
       "      <td>0</td>\n",
       "      <td>4</td>\n",
       "      <td>959</td>\n",
       "      <td>2853</td>\n",
       "      <td>3257</td>\n",
       "      <td>2931</td>\n",
       "    </tr>\n",
       "    <tr>\n",
       "      <th>1002</th>\n",
       "      <td>4</td>\n",
       "      <td>0</td>\n",
       "      <td>198</td>\n",
       "      <td>100</td>\n",
       "      <td>100</td>\n",
       "      <td>True</td>\n",
       "      <td>3</td>\n",
       "      <td>0.25</td>\n",
       "      <td>0.25</td>\n",
       "      <td>0.25</td>\n",
       "      <td>0.25</td>\n",
       "      <td>0</td>\n",
       "      <td>0</td>\n",
       "      <td>4</td>\n",
       "      <td>932</td>\n",
       "      <td>2868</td>\n",
       "      <td>3242</td>\n",
       "      <td>2958</td>\n",
       "    </tr>\n",
       "    <tr>\n",
       "      <th>1003</th>\n",
       "      <td>4</td>\n",
       "      <td>0</td>\n",
       "      <td>199</td>\n",
       "      <td>100</td>\n",
       "      <td>100</td>\n",
       "      <td>True</td>\n",
       "      <td>3</td>\n",
       "      <td>0.25</td>\n",
       "      <td>0.25</td>\n",
       "      <td>0.25</td>\n",
       "      <td>0.25</td>\n",
       "      <td>0</td>\n",
       "      <td>0</td>\n",
       "      <td>4</td>\n",
       "      <td>931</td>\n",
       "      <td>2875</td>\n",
       "      <td>3197</td>\n",
       "      <td>2997</td>\n",
       "    </tr>\n",
       "    <tr>\n",
       "      <th>1004</th>\n",
       "      <td>4</td>\n",
       "      <td>0</td>\n",
       "      <td>200</td>\n",
       "      <td>100</td>\n",
       "      <td>100</td>\n",
       "      <td>True</td>\n",
       "      <td>3</td>\n",
       "      <td>0.25</td>\n",
       "      <td>0.25</td>\n",
       "      <td>0.25</td>\n",
       "      <td>0.25</td>\n",
       "      <td>0</td>\n",
       "      <td>0</td>\n",
       "      <td>4</td>\n",
       "      <td>957</td>\n",
       "      <td>2866</td>\n",
       "      <td>3178</td>\n",
       "      <td>2999</td>\n",
       "    </tr>\n",
       "  </tbody>\n",
       "</table>\n",
       "<p>1005 rows × 18 columns</p>\n",
       "</div>"
      ],
      "text/plain": [
       "      RunId  iteration  Step  height  width   hex  n_species  prob0  prob1  \\\n",
       "0         0          0     0     100    100  True          3   0.25   0.25   \n",
       "1         0          0     1     100    100  True          3   0.25   0.25   \n",
       "2         0          0     2     100    100  True          3   0.25   0.25   \n",
       "3         0          0     3     100    100  True          3   0.25   0.25   \n",
       "4         0          0     4     100    100  True          3   0.25   0.25   \n",
       "...     ...        ...   ...     ...    ...   ...        ...    ...    ...   \n",
       "1000      4          0   196     100    100  True          3   0.25   0.25   \n",
       "1001      4          0   197     100    100  True          3   0.25   0.25   \n",
       "1002      4          0   198     100    100  True          3   0.25   0.25   \n",
       "1003      4          0   199     100    100  True          3   0.25   0.25   \n",
       "1004      4          0   200     100    100  True          3   0.25   0.25   \n",
       "\n",
       "      prob2  prob3  prob4  prob5  color_map  empty  rock  scissors  paper  \n",
       "0      0.25   0.25      0      0          0   2413  2531      2577   2479  \n",
       "1      0.25   0.25      0      0          0   2444  2520      2588   2448  \n",
       "2      0.25   0.25      0      0          0   2373  2557      2609   2461  \n",
       "3      0.25   0.25      0      0          0   2257  2648      2610   2485  \n",
       "4      0.25   0.25      0      0          0   2214  2633      2605   2548  \n",
       "...     ...    ...    ...    ...        ...    ...   ...       ...    ...  \n",
       "1000   0.25   0.25      0      0          4    966  2844      3289   2901  \n",
       "1001   0.25   0.25      0      0          4    959  2853      3257   2931  \n",
       "1002   0.25   0.25      0      0          4    932  2868      3242   2958  \n",
       "1003   0.25   0.25      0      0          4    931  2875      3197   2997  \n",
       "1004   0.25   0.25      0      0          4    957  2866      3178   2999  \n",
       "\n",
       "[1005 rows x 18 columns]"
      ]
     },
     "execution_count": 19,
     "metadata": {},
     "output_type": "execute_result"
    }
   ],
   "source": [
    "model_params_SSR = {\n",
    "    \"height\": 100,\n",
    "    \"width\": 100,\n",
    "    \"hex\": True,\n",
    "    \"n_species\": 3,\n",
    "    \"prob0\": 0.25,\n",
    "    \"prob1\": 0.25,\n",
    "    \"prob2\": 0.25,\n",
    "    \"prob3\": 0.25,\n",
    "    \"prob4\": 0,\n",
    "    \"prob5\": 0,\n",
    "    \"color_map\": {\n",
    "        0: 'red',\n",
    "        1: 'yellow',\n",
    "        2: 'purple',\n",
    "        3: 'green',\n",
    "        4: 'blue'\n",
    "    }\n",
    "}\n",
    "results = mesa.batch_run(\n",
    "    RockScissorsPaperSSR,\n",
    "    parameters=model_params_SSR,\n",
    "    iterations=1,\n",
    "    max_steps=200,\n",
    "    number_processes=1,\n",
    "    data_collection_period=1,\n",
    "    display_progress=True,\n",
    ")\n",
    "\n",
    "results_df= pd.DataFrame(results)\n",
    "results_df.rename(columns={0: \"empty\", 1: \"rock\", 2: \"scissors\", 3: \"paper\"}, inplace=True)\n",
    "results_df"
   ]
  },
  {
   "cell_type": "code",
   "execution_count": 20,
   "metadata": {},
   "outputs": [
    {
     "data": {
      "text/plain": [
       "<Axes: >"
      ]
     },
     "execution_count": 20,
     "metadata": {},
     "output_type": "execute_result"
    },
    {
     "data": {
      "image/png": "[encoded data removed]",
      "text/plain": [
       "<Figure size 1500x600 with 1 Axes>"
      ]
     },
     "metadata": {},
     "output_type": "display_data"
    }
   ],
   "source": [
    "_, axs = plt.subplots(1, figsize=(15, 6))\n",
    "results_df[[\"rock\", \"scissors\", \"paper\"]].plot(ax=axs, style='-o')"
   ]
  },
  {
   "cell_type": "code",
   "execution_count": 21,
   "metadata": {},
   "outputs": [
    {
     "data": {
      "application/vnd.plotly.v1+json": {
       "config": {
        "plotlyServerURL": "https://plot.ly"
       },
       "data": [
        {
         "a": [
          2479,
          2448,
          2461,
          2485,
          2548,
          2528,
          2511,
          2510,
          2537,
          2541,
          2575,
          2654,
          2646,
          2617,
          2607,
          2617,
          2597,
          2606,
          2629,
          2645,
          2673,
          2636,
          2617,
          2627,
          2669,
          2707,
          2717,
          2744,
          2798,
          2803,
          2846,
          2882,
          2934,
          2934,
          2972,
          2968,
          2974,
          2997,
          3006,
          3012,
          3033,
          3026,
          3025,
          3014,
          2992,
          2978,
          2973,
          2956,
          2949,
          2946,
          2925,
          2920,
          2917,
          2907,
          2912,
          2911,
          2925,
          2909,
          2893,
          2843,
          2830,
          2803,
          2814,
          2782,
          2743,
          2727,
          2721,
          2674,
          2639,
          2646,
          2679,
          2640,
          2635,
          2617,
          2581,
          2553,
          2508,
          2515,
          2498,
          2497,
          2468,
          2450,
          2461,
          2423,
          2423,
          2406,
          2432,
          2428,
          2450,
          2482,
          2490,
          2509,
          2564,
          2572,
          2602,
          2637,
          2669,
          2728,
          2758,
          2815,
          2868,
          2933,
          2997,
          3040,
          3090,
          3124,
          3193,
          3261,
          3340,
          3393,
          3429,
          3489,
          3544,
          3593,
          3616,
          3659,
          3738,
          3777,
          3808,
          3872,
          3885,
          3935,
          3970,
          3992,
          3993,
          3995,
          4017,
          4034,
          4047,
          4035,
          4096,
          4126,
          4098,
          4100,
          4116,
          4111,
          4078,
          4068,
          4066,
          4082,
          4075,
          4059,
          4072,
          4044,
          4030,
          3973,
          3967,
          3964,
          3908,
          3885,
          3858,
          3829,
          3794,
          3754,
          3742,
          3724,
          3687,
          3634,
          3611,
          3563,
          3523,
          3479,
          3449,
          3425,
          3381,
          3304,
          3285,
          3253,
          3203,
          3186,
          3122,
          3080,
          3077,
          3060,
          3064,
          3037,
          3015,
          2980,
          2947,
          2890,
          2868,
          2838,
          2819,
          2782,
          2746,
          2731,
          2676,
          2645,
          2650,
          2639,
          2630,
          2597,
          2590,
          2583,
          2585,
          2602,
          2591,
          2591,
          2576,
          2571,
          2548
         ],
         "b": [
          2531,
          2520,
          2557,
          2648,
          2633,
          2649,
          2671,
          2692,
          2720,
          2751,
          2734,
          2746,
          2760,
          2794,
          2845,
          2878,
          2873,
          2892,
          2928,
          2907,
          2945,
          2955,
          2992,
          2972,
          2974,
          2952,
          2930,
          2912,
          2872,
          2846,
          2782,
          2830,
          2802,
          2751,
          2759,
          2747,
          2739,
          2702,
          2736,
          2747,
          2751,
          2741,
          2781,
          2784,
          2785,
          2792,
          2782,
          2778,
          2767,
          2754,
          2749,
          2780,
          2755,
          2773,
          2790,
          2776,
          2798,
          2798,
          2797,
          2825,
          2813,
          2817,
          2842,
          2843,
          2875,
          2873,
          2921,
          2988,
          3022,
          3033,
          3067,
          3121,
          3140,
          3167,
          3227,
          3285,
          3333,
          3347,
          3377,
          3431,
          3452,
          3491,
          3518,
          3512,
          3525,
          3605,
          3622,
          3623,
          3633,
          3640,
          3637,
          3669,
          3660,
          3628,
          3600,
          3630,
          3618,
          3591,
          3570,
          3536,
          3550,
          3523,
          3531,
          3504,
          3475,
          3463,
          3447,
          3413,
          3385,
          3340,
          3347,
          3312,
          3245,
          3217,
          3168,
          3130,
          3083,
          3063,
          3051,
          3025,
          2970,
          2929,
          2906,
          2872,
          2842,
          2812,
          2801,
          2790,
          2786,
          2755,
          2752,
          2705,
          2727,
          2692,
          2701,
          2653,
          2680,
          2642,
          2610,
          2572,
          2579,
          2544,
          2528,
          2514,
          2478,
          2461,
          2457,
          2450,
          2422,
          2392,
          2369,
          2368,
          2358,
          2342,
          2301,
          2299,
          2282,
          2233,
          2261,
          2243,
          2231,
          2211,
          2216,
          2248,
          2252,
          2237,
          2260,
          2246,
          2249,
          2276,
          2267,
          2279,
          2280,
          2268,
          2258,
          2280,
          2273,
          2296,
          2348,
          2360,
          2401,
          2421,
          2475,
          2521,
          2539,
          2601,
          2672,
          2693,
          2735,
          2778,
          2807,
          2847,
          2872,
          2934,
          2967,
          2991,
          3016,
          3061,
          3119,
          3149,
          3198
         ],
         "c": [
          2577,
          2588,
          2609,
          2610,
          2605,
          2636,
          2634,
          2692,
          2703,
          2688,
          2691,
          2695,
          2673,
          2636,
          2636,
          2664,
          2653,
          2665,
          2665,
          2654,
          2681,
          2678,
          2709,
          2710,
          2748,
          2744,
          2752,
          2787,
          2767,
          2810,
          2795,
          2796,
          2803,
          2804,
          2802,
          2839,
          2822,
          2823,
          2819,
          2855,
          2857,
          2847,
          2852,
          2881,
          2890,
          2903,
          2919,
          2957,
          3011,
          3024,
          3022,
          3045,
          3086,
          3089,
          3083,
          3075,
          3088,
          3130,
          3161,
          3199,
          3253,
          3261,
          3277,
          3302,
          3285,
          3298,
          3302,
          3283,
          3226,
          3177,
          3201,
          3212,
          3167,
          3108,
          3128,
          3071,
          3062,
          3071,
          3064,
          3066,
          3077,
          3055,
          3050,
          3012,
          3022,
          2970,
          2927,
          2931,
          2910,
          2877,
          2840,
          2818,
          2812,
          2813,
          2824,
          2799,
          2785,
          2782,
          2763,
          2710,
          2672,
          2625,
          2585,
          2533,
          2510,
          2461,
          2423,
          2411,
          2409,
          2388,
          2350,
          2356,
          2349,
          2359,
          2369,
          2323,
          2310,
          2292,
          2281,
          2277,
          2266,
          2299,
          2291,
          2274,
          2294,
          2307,
          2331,
          2329,
          2332,
          2332,
          2343,
          2353,
          2380,
          2378,
          2403,
          2440,
          2471,
          2511,
          2516,
          2530,
          2561,
          2582,
          2604,
          2670,
          2706,
          2728,
          2777,
          2790,
          2811,
          2843,
          2906,
          2940,
          3013,
          3100,
          3142,
          3155,
          3217,
          3281,
          3315,
          3339,
          3362,
          3383,
          3413,
          3459,
          3493,
          3525,
          3570,
          3618,
          3665,
          3720,
          3729,
          3761,
          3761,
          3780,
          3818,
          3810,
          3801,
          3791,
          3778,
          3818,
          3797,
          3801,
          3794,
          3790,
          3787,
          3768,
          3753,
          3727,
          3719,
          3708,
          3683,
          3657,
          3608,
          3560,
          3517,
          3522,
          3505,
          3486,
          3441,
          3427,
          3385
         ],
         "hovertemplate": "paper=%{a}<br>rock=%{b}<br>scissors=%{c}<br>color=%{marker.color}<extra></extra>",
         "legendgroup": "",
         "line": {
          "color": "black"
         },
         "marker": {
          "color": [
           0,
           1,
           2,
           3,
           4,
           5,
           6,
           7,
           8,
           9,
           10,
           11,
           12,
           13,
           14,
           15,
           16,
           17,
           18,
           19,
           20,
           21,
           22,
           23,
           24,
           25,
           26,
           27,
           28,
           29,
           30,
           31,
           32,
           33,
           34,
           35,
           36,
           37,
           38,
           39,
           40,
           41,
           42,
           43,
           44,
           45,
           46,
           47,
           48,
           49,
           50,
           51,
           52,
           53,
           54,
           55,
           56,
           57,
           58,
           59,
           60,
           61,
           62,
           63,
           64,
           65,
           66,
           67,
           68,
           69,
           70,
           71,
           72,
           73,
           74,
           75,
           76,
           77,
           78,
           79,
           80,
           81,
           82,
           83,
           84,
           85,
           86,
           87,
           88,
           89,
           90,
           91,
           92,
           93,
           94,
           95,
           96,
           97,
           98,
           99,
           100,
           101,
           102,
           103,
           104,
           105,
           106,
           107,
           108,
           109,
           110,
           111,
           112,
           113,
           114,
           115,
           116,
           117,
           118,
           119,
           120,
           121,
           122,
           123,
           124,
           125,
           126,
           127,
           128,
           129,
           130,
           131,
           132,
           133,
           134,
           135,
           136,
           137,
           138,
           139,
           140,
           141,
           142,
           143,
           144,
           145,
           146,
           147,
           148,
           149,
           150,
           151,
           152,
           153,
           154,
           155,
           156,
           157,
           158,
           159,
           160,
           161,
           162,
           163,
           164,
           165,
           166,
           167,
           168,
           169,
           170,
           171,
           172,
           173,
           174,
           175,
           176,
           177,
           178,
           179,
           180,
           181,
           182,
           183,
           184,
           185,
           186,
           187,
           188,
           189,
           190,
           191,
           192,
           193,
           194,
           195,
           196,
           197,
           198,
           199,
           200
          ],
          "coloraxis": "coloraxis",
          "symbol": "circle"
         },
         "mode": "lines+markers",
         "name": "",
         "showlegend": false,
         "subplot": "ternary",
         "type": "scatterternary"
        }
       ],
       "layout": {
        "coloraxis": {
         "colorbar": {
          "title": {
           "text": "Time"
          }
         },
         "colorscale": [
          [
           0,
           "#0d0887"
          ],
          [
           0.1111111111111111,
           "#46039f"
          ],
          [
           0.2222222222222222,
           "#7201a8"
          ],
          [
           0.3333333333333333,
           "#9c179e"
          ],
          [
           0.4444444444444444,
           "#bd3786"
          ],
          [
           0.5555555555555556,
           "#d8576b"
          ],
          [
           0.6666666666666666,
           "#ed7953"
          ],
          [
           0.7777777777777778,
           "#fb9f3a"
          ],
          [
           0.8888888888888888,
           "#fdca26"
          ],
          [
           1,
           "#f0f921"
          ]
         ]
        },
        "legend": {
         "tracegroupgap": 0
        },
        "template": {
         "data": {
          "bar": [
           {
            "error_x": {
             "color": "#2a3f5f"
            },
            "error_y": {
             "color": "#2a3f5f"
            },
            "marker": {
             "line": {
              "color": "#E5ECF6",
              "width": 0.5
             },
             "pattern": {
              "fillmode": "overlay",
              "size": 10,
              "solidity": 0.2
             }
            },
            "type": "bar"
           }
          ],
          "barpolar": [
           {
            "marker": {
             "line": {
              "color": "#E5ECF6",
              "width": 0.5
             },
             "pattern": {
              "fillmode": "overlay",
              "size": 10,
              "solidity": 0.2
             }
            },
            "type": "barpolar"
           }
          ],
          "carpet": [
           {
            "aaxis": {
             "endlinecolor": "#2a3f5f",
             "gridcolor": "white",
             "linecolor": "white",
             "minorgridcolor": "white",
             "startlinecolor": "#2a3f5f"
            },
            "baxis": {
             "endlinecolor": "#2a3f5f",
             "gridcolor": "white",
             "linecolor": "white",
             "minorgridcolor": "white",
             "startlinecolor": "#2a3f5f"
            },
            "type": "carpet"
           }
          ],
          "choropleth": [
           {
            "colorbar": {
             "outlinewidth": 0,
             "ticks": ""
            },
            "type": "choropleth"
           }
          ],
          "contour": [
           {
            "colorbar": {
             "outlinewidth": 0,
             "ticks": ""
            },
            "colorscale": [
             [
              0,
              "#0d0887"
             ],
             [
              0.1111111111111111,
              "#46039f"
             ],
             [
              0.2222222222222222,
              "#7201a8"
             ],
             [
              0.3333333333333333,
              "#9c179e"
             ],
             [
              0.4444444444444444,
              "#bd3786"
             ],
             [
              0.5555555555555556,
              "#d8576b"
             ],
             [
              0.6666666666666666,
              "#ed7953"
             ],
             [
              0.7777777777777778,
              "#fb9f3a"
             ],
             [
              0.8888888888888888,
              "#fdca26"
             ],
             [
              1,
              "#f0f921"
             ]
            ],
            "type": "contour"
           }
          ],
          "contourcarpet": [
           {
            "colorbar": {
             "outlinewidth": 0,
             "ticks": ""
            },
            "type": "contourcarpet"
           }
          ],
          "heatmap": [
           {
            "colorbar": {
             "outlinewidth": 0,
             "ticks": ""
            },
            "colorscale": [
             [
              0,
              "#0d0887"
             ],
             [
              0.1111111111111111,
              "#46039f"
             ],
             [
              0.2222222222222222,
              "#7201a8"
             ],
             [
              0.3333333333333333,
              "#9c179e"
             ],
             [
              0.4444444444444444,
              "#bd3786"
             ],
             [
              0.5555555555555556,
              "#d8576b"
             ],
             [
              0.6666666666666666,
              "#ed7953"
             ],
             [
              0.7777777777777778,
              "#fb9f3a"
             ],
             [
              0.8888888888888888,
              "#fdca26"
             ],
             [
              1,
              "#f0f921"
             ]
            ],
            "type": "heatmap"
           }
          ],
          "heatmapgl": [
           {
            "colorbar": {
             "outlinewidth": 0,
             "ticks": ""
            },
            "colorscale": [
             [
              0,
              "#0d0887"
             ],
             [
              0.1111111111111111,
              "#46039f"
             ],
             [
              0.2222222222222222,
              "#7201a8"
             ],
             [
              0.3333333333333333,
              "#9c179e"
             ],
             [
              0.4444444444444444,
              "#bd3786"
             ],
             [
              0.5555555555555556,
              "#d8576b"
             ],
             [
              0.6666666666666666,
              "#ed7953"
             ],
             [
              0.7777777777777778,
              "#fb9f3a"
             ],
             [
              0.8888888888888888,
              "#fdca26"
             ],
             [
              1,
              "#f0f921"
             ]
            ],
            "type": "heatmapgl"
           }
          ],
          "histogram": [
           {
            "marker": {
             "pattern": {
              "fillmode": "overlay",
              "size": 10,
              "solidity": 0.2
             }
            },
            "type": "histogram"
           }
          ],
          "histogram2d": [
           {
            "colorbar": {
             "outlinewidth": 0,
             "ticks": ""
            },
            "colorscale": [
             [
              0,
              "#0d0887"
             ],
             [
              0.1111111111111111,
              "#46039f"
             ],
             [
              0.2222222222222222,
              "#7201a8"
             ],
             [
              0.3333333333333333,
              "#9c179e"
             ],
             [
              0.4444444444444444,
              "#bd3786"
             ],
             [
              0.5555555555555556,
              "#d8576b"
             ],
             [
              0.6666666666666666,
              "#ed7953"
             ],
             [
              0.7777777777777778,
              "#fb9f3a"
             ],
             [
              0.8888888888888888,
              "#fdca26"
             ],
             [
              1,
              "#f0f921"
             ]
            ],
            "type": "histogram2d"
           }
          ],
          "histogram2dcontour": [
           {
            "colorbar": {
             "outlinewidth": 0,
             "ticks": ""
            },
            "colorscale": [
             [
              0,
              "#0d0887"
             ],
             [
              0.1111111111111111,
              "#46039f"
             ],
             [
              0.2222222222222222,
              "#7201a8"
             ],
             [
              0.3333333333333333,
              "#9c179e"
             ],
             [
              0.4444444444444444,
              "#bd3786"
             ],
             [
              0.5555555555555556,
              "#d8576b"
             ],
             [
              0.6666666666666666,
              "#ed7953"
             ],
             [
              0.7777777777777778,
              "#fb9f3a"
             ],
             [
              0.8888888888888888,
              "#fdca26"
             ],
             [
              1,
              "#f0f921"
             ]
            ],
            "type": "histogram2dcontour"
           }
          ],
          "mesh3d": [
           {
            "colorbar": {
             "outlinewidth": 0,
             "ticks": ""
            },
            "type": "mesh3d"
           }
          ],
          "parcoords": [
           {
            "line": {
             "colorbar": {
              "outlinewidth": 0,
              "ticks": ""
             }
            },
            "type": "parcoords"
           }
          ],
          "pie": [
           {
            "automargin": true,
            "type": "pie"
           }
          ],
          "scatter": [
           {
            "fillpattern": {
             "fillmode": "overlay",
             "size": 10,
             "solidity": 0.2
            },
            "type": "scatter"
           }
          ],
          "scatter3d": [
           {
            "line": {
             "colorbar": {
              "outlinewidth": 0,
              "ticks": ""
             }
            },
            "marker": {
             "colorbar": {
              "outlinewidth": 0,
              "ticks": ""
             }
            },
            "type": "scatter3d"
           }
          ],
          "scattercarpet": [
           {
            "marker": {
             "colorbar": {
              "outlinewidth": 0,
              "ticks": ""
             }
            },
            "type": "scattercarpet"
           }
          ],
          "scattergeo": [
           {
            "marker": {
             "colorbar": {
              "outlinewidth": 0,
              "ticks": ""
             }
            },
            "type": "scattergeo"
           }
          ],
          "scattergl": [
           {
            "marker": {
             "colorbar": {
              "outlinewidth": 0,
              "ticks": ""
             }
            },
            "type": "scattergl"
           }
          ],
          "scattermapbox": [
           {
            "marker": {
             "colorbar": {
              "outlinewidth": 0,
              "ticks": ""
             }
            },
            "type": "scattermapbox"
           }
          ],
          "scatterpolar": [
           {
            "marker": {
             "colorbar": {
              "outlinewidth": 0,
              "ticks": ""
             }
            },
            "type": "scatterpolar"
           }
          ],
          "scatterpolargl": [
           {
            "marker": {
             "colorbar": {
              "outlinewidth": 0,
              "ticks": ""
             }
            },
            "type": "scatterpolargl"
           }
          ],
          "scatterternary": [
           {
            "marker": {
             "colorbar": {
              "outlinewidth": 0,
              "ticks": ""
             }
            },
            "type": "scatterternary"
           }
          ],
          "surface": [
           {
            "colorbar": {
             "outlinewidth": 0,
             "ticks": ""
            },
            "colorscale": [
             [
              0,
              "#0d0887"
             ],
             [
              0.1111111111111111,
              "#46039f"
             ],
             [
              0.2222222222222222,
              "#7201a8"
             ],
             [
              0.3333333333333333,
              "#9c179e"
             ],
             [
              0.4444444444444444,
              "#bd3786"
             ],
             [
              0.5555555555555556,
              "#d8576b"
             ],
             [
              0.6666666666666666,
              "#ed7953"
             ],
             [
              0.7777777777777778,
              "#fb9f3a"
             ],
             [
              0.8888888888888888,
              "#fdca26"
             ],
             [
              1,
              "#f0f921"
             ]
            ],
            "type": "surface"
           }
          ],
          "table": [
           {
            "cells": {
             "fill": {
              "color": "#EBF0F8"
             },
             "line": {
              "color": "white"
             }
            },
            "header": {
             "fill": {
              "color": "#C8D4E3"
             },
             "line": {
              "color": "white"
             }
            },
            "type": "table"
           }
          ]
         },
         "layout": {
          "annotationdefaults": {
           "arrowcolor": "#2a3f5f",
           "arrowhead": 0,
           "arrowwidth": 1
          },
          "autotypenumbers": "strict",
          "coloraxis": {
           "colorbar": {
            "outlinewidth": 0,
            "ticks": ""
           }
          },
          "colorscale": {
           "diverging": [
            [
             0,
             "#8e0152"
            ],
            [
             0.1,
             "#c51b7d"
            ],
            [
             0.2,
             "#de77ae"
            ],
            [
             0.3,
             "#f1b6da"
            ],
            [
             0.4,
             "#fde0ef"
            ],
            [
             0.5,
             "#f7f7f7"
            ],
            [
             0.6,
             "#e6f5d0"
            ],
            [
             0.7,
             "#b8e186"
            ],
            [
             0.8,
             "#7fbc41"
            ],
            [
             0.9,
             "#4d9221"
            ],
            [
             1,
             "#276419"
            ]
           ],
           "sequential": [
            [
             0,
             "#0d0887"
            ],
            [
             0.1111111111111111,
             "#46039f"
            ],
            [
             0.2222222222222222,
             "#7201a8"
            ],
            [
             0.3333333333333333,
             "#9c179e"
            ],
            [
             0.4444444444444444,
             "#bd3786"
            ],
            [
             0.5555555555555556,
             "#d8576b"
            ],
            [
             0.6666666666666666,
             "#ed7953"
            ],
            [
             0.7777777777777778,
             "#fb9f3a"
            ],
            [
             0.8888888888888888,
             "#fdca26"
            ],
            [
             1,
             "#f0f921"
            ]
           ],
           "sequentialminus": [
            [
             0,
             "#0d0887"
            ],
            [
             0.1111111111111111,
             "#46039f"
            ],
            [
             0.2222222222222222,
             "#7201a8"
            ],
            [
             0.3333333333333333,
             "#9c179e"
            ],
            [
             0.4444444444444444,
             "#bd3786"
            ],
            [
             0.5555555555555556,
             "#d8576b"
            ],
            [
             0.6666666666666666,
             "#ed7953"
            ],
            [
             0.7777777777777778,
             "#fb9f3a"
            ],
            [
             0.8888888888888888,
             "#fdca26"
            ],
            [
             1,
             "#f0f921"
            ]
           ]
          },
          "colorway": [
           "#636efa",
           "#EF553B",
           "#00cc96",
           "#ab63fa",
           "#FFA15A",
           "#19d3f3",
           "#FF6692",
           "#B6E880",
           "#FF97FF",
           "#FECB52"
          ],
          "font": {
           "color": "#2a3f5f"
          },
          "geo": {
           "bgcolor": "white",
           "lakecolor": "white",
           "landcolor": "#E5ECF6",
           "showlakes": true,
           "showland": true,
           "subunitcolor": "white"
          },
          "hoverlabel": {
           "align": "left"
          },
          "hovermode": "closest",
          "mapbox": {
           "style": "light"
          },
          "paper_bgcolor": "white",
          "plot_bgcolor": "#E5ECF6",
          "polar": {
           "angularaxis": {
            "gridcolor": "white",
            "linecolor": "white",
            "ticks": ""
           },
           "bgcolor": "#E5ECF6",
           "radialaxis": {
            "gridcolor": "white",
            "linecolor": "white",
            "ticks": ""
           }
          },
          "scene": {
           "xaxis": {
            "backgroundcolor": "#E5ECF6",
            "gridcolor": "white",
            "gridwidth": 2,
            "linecolor": "white",
            "showbackground": true,
            "ticks": "",
            "zerolinecolor": "white"
           },
           "yaxis": {
            "backgroundcolor": "#E5ECF6",
            "gridcolor": "white",
            "gridwidth": 2,
            "linecolor": "white",
            "showbackground": true,
            "ticks": "",
            "zerolinecolor": "white"
           },
           "zaxis": {
            "backgroundcolor": "#E5ECF6",
            "gridcolor": "white",
            "gridwidth": 2,
            "linecolor": "white",
            "showbackground": true,
            "ticks": "",
            "zerolinecolor": "white"
           }
          },
          "shapedefaults": {
           "line": {
            "color": "#2a3f5f"
           }
          },
          "ternary": {
           "aaxis": {
            "gridcolor": "white",
            "linecolor": "white",
            "ticks": ""
           },
           "baxis": {
            "gridcolor": "white",
            "linecolor": "white",
            "ticks": ""
           },
           "bgcolor": "#E5ECF6",
           "caxis": {
            "gridcolor": "white",
            "linecolor": "white",
            "ticks": ""
           }
          },
          "title": {
           "x": 0.05
          },
          "xaxis": {
           "automargin": true,
           "gridcolor": "white",
           "linecolor": "white",
           "ticks": "",
           "title": {
            "standoff": 15
           },
           "zerolinecolor": "white",
           "zerolinewidth": 2
          },
          "yaxis": {
           "automargin": true,
           "gridcolor": "white",
           "linecolor": "white",
           "ticks": "",
           "title": {
            "standoff": 15
           },
           "zerolinecolor": "white",
           "zerolinewidth": 2
          }
         }
        },
        "ternary": {
         "aaxis": {
          "title": {
           "text": "paper"
          }
         },
         "baxis": {
          "title": {
           "text": "rock"
          }
         },
         "caxis": {
          "title": {
           "text": "scissors"
          }
         },
         "domain": {
          "x": [
           0,
           1
          ],
          "y": [
           0,
           1
          ]
         }
        },
        "title": {
         "text": "RSP Model"
        }
       }
      }
     },
     "metadata": {},
     "output_type": "display_data"
    }
   ],
   "source": [
    "fig = px.scatter_ternary(\n",
    "    results_df,\n",
    "    a=\"paper\",\n",
    "    b=\"rock\",\n",
    "    c=\"scissors\",\n",
    "    color=results_df.index,\n",
    "    size_max=10,\n",
    "    title=\"RSP Model\"\n",
    "    )\n",
    "fig.update_traces(mode='lines+markers', line=dict(color='black'))\n",
    "fig.update_layout(coloraxis_colorbar=dict(title='Time'))"
   ]
  },
  {
   "cell_type": "code",
   "execution_count": null,
   "metadata": {},
   "outputs": [],
   "source": [
    "# TODO: JupiterViz\n",
    "# https://github.com/projectmesa/mesa-examples/blob/main/examples/schelling_experimental/app.py\n",
    "# https://github.com/projectmesa/mesa-examples/blob/main/examples/hotelling_law/app.py"
   ]
  }
 ],
 "metadata": {
  "kernelspec": {
   "display_name": "cmcs",
   "language": "python",
   "name": "python3"
  },
  "language_info": {
   "codemirror_mode": {
    "name": "ipython",
    "version": 3
   },
   "file_extension": ".py",
   "mimetype": "text/x-python",
   "name": "python",
   "nbconvert_exporter": "python",
   "pygments_lexer": "ipython3",
   "version": "3.11.7"
  }
 },
 "nbformat": 4,
 "nbformat_minor": 2
}
