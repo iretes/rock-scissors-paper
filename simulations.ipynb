{
 "cells": [
  {
   "cell_type": "code",
   "execution_count": 1,
   "metadata": {},
   "outputs": [],
   "source": [
    "import mesa\n",
    "import pandas as pd\n",
    "from rock_scissors_paper.model import RockScissorsPaper\n",
    "from rock_scissors_paper.portrayal import portrayCell"
   ]
  },
  {
   "cell_type": "code",
   "execution_count": 3,
   "metadata": {},
   "outputs": [
    {
     "data": {
      "application/vnd.jupyter.widget-view+json": {
       "model_id": "0abb0b7db41f4445b1dff4acfee37579",
       "version_major": 2,
       "version_minor": 0
      },
      "text/plain": [
       "  0%|          | 0/5 [00:00<?, ?it/s]"
      ]
     },
     "metadata": {},
     "output_type": "display_data"
    },
    {
     "name": "stdout",
     "output_type": "stream",
     "text": [
      "{(0, 1): 0, (0, 2): 0, (1, 2): 1, (1, 3): 1, (2, 3): 2, (2, 0): 2, (3, 0): 3, (3, 1): 3}\n",
      "{(0, 1): 0, (0, 2): 0, (1, 2): 1, (1, 3): 1, (2, 3): 2, (2, 0): 2, (3, 0): 3, (3, 1): 3}\n",
      "{(0, 1): 0, (0, 2): 0, (1, 2): 1, (1, 3): 1, (2, 3): 2, (2, 0): 2, (3, 0): 3, (3, 1): 3}\n",
      "{(0, 1): 0, (0, 2): 0, (1, 2): 1, (1, 3): 1, (2, 3): 2, (2, 0): 2, (3, 0): 3, (3, 1): 3}\n",
      "{(0, 1): 0, (0, 2): 0, (1, 2): 1, (1, 3): 1, (2, 3): 2, (2, 0): 2, (3, 0): 3, (3, 1): 3}\n"
     ]
    }
   ],
   "source": [
    "rules_4_species_sym = {\n",
    "    (0, 1): 0,\n",
    "    (0, 2): 0,\n",
    "    (1, 2): 1,\n",
    "    (1, 3): 1,\n",
    "    (2, 3): 2,\n",
    "    (2, 0): 2,\n",
    "    (3, 0): 3,\n",
    "    (3, 1): 3\n",
    "}\n",
    "color_map = {\n",
    "    0: 'red',\n",
    "    1: 'yellow',\n",
    "    2: 'purple',\n",
    "    3: 'green',\n",
    "    4: 'blue'\n",
    "}\n",
    "model_params = {\n",
    "    \"height\": 100,\n",
    "    \"width\": 100,\n",
    "    \"rules\": [rules_4_species_sym],\n",
    "    \"n_species\": 4,\n",
    "    \"color_map\": color_map\n",
    "}\n",
    "\n",
    "results = mesa.batch_run(\n",
    "    RockScissorsPaper,\n",
    "    parameters=model_params,\n",
    "    iterations=1, # per ogni comb di parametri, quante volte fare run\n",
    "    max_steps=120,\n",
    "    number_processes=1,\n",
    "    data_collection_period=1,  # Important, otherwise the datacollector will only collect data of the last time step\n",
    "    display_progress=True,\n",
    ")\n",
    "\n",
    "results_5s_df = pd.DataFrame(results)\n",
    "results_5s_df"
   ]
  }
 ],
 "metadata": {
  "kernelspec": {
   "display_name": "cmcs",
   "language": "python",
   "name": "python3"
  },
  "language_info": {
   "codemirror_mode": {
    "name": "ipython",
    "version": 3
   },
   "file_extension": ".py",
   "mimetype": "text/x-python",
   "name": "python",
   "nbconvert_exporter": "python",
   "pygments_lexer": "ipython3",
   "version": "3.11.7"
  }
 },
 "nbformat": 4,
 "nbformat_minor": 2
}
